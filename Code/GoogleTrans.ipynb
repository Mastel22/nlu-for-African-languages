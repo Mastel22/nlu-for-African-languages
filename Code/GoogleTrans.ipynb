{
  "cells": [
    {
      "cell_type": "code",
      "execution_count": null,
      "metadata": {
        "id": "0g2D874RxZKL"
      },
      "outputs": [],
      "source": [
        "import os\n",
        "from google.cloud import translate_v2\n",
        "import pandas as pd"
      ]
    },
    {
      "cell_type": "code",
      "execution_count": null,
      "metadata": {
        "id": "QtDVz_xmtwfz"
      },
      "outputs": [],
      "source": [
        "## If you are using colab, you can import google drive\n",
        "from google.colab import drive\n",
        "drive.mount('/content/drive')"
      ]
    },
    {
      "cell_type": "code",
      "execution_count": null,
      "metadata": {
        "id": "_WR21FDnRCsP"
      },
      "outputs": [],
      "source": [
        "#Pass your Google translate API\n",
        "os.environ['GOOGLE_APPLICATION_CREDENTIALS'] = r\"\""
      ]
    },
    {
      "cell_type": "code",
      "execution_count": null,
      "metadata": {
        "id": "7L-EKjcT-N59"
      },
      "outputs": [],
      "source": [
        "#Data Loading process\n",
        "train_data = pd.read_csv('', sep = '\\t')\n",
        "test_data = pd.read_csv('', sep = '\\t')"
      ]
    },
    {
      "cell_type": "code",
      "execution_count": null,
      "metadata": {
        "id": "LUtaYJDuto75"
      },
      "outputs": [],
      "source": [
        "train_data"
      ]
    },
    {
      "cell_type": "code",
      "execution_count": null,
      "metadata": {
        "id": "_Z55im9yCLaO"
      },
      "outputs": [],
      "source": [
        "#Preprocessing the intent column for both train and test set\n",
        "def preprocess_intent_column(sentence): \n",
        "  sentence = sentence\n",
        "  return sentence[5:]"
      ]
    },
    {
      "cell_type": "code",
      "execution_count": null,
      "metadata": {
        "id": "q5hSuLnLP1zd"
      },
      "outputs": [],
      "source": [
        "train_data['intent'] = train_data['intent'].apply(preprocess_intent_column)\n",
        "test_data['intent'] = test_data['intent'].apply(preprocess_intent_column)"
      ]
    },
    {
      "cell_type": "code",
      "execution_count": null,
      "metadata": {
        "id": "OfLnyCAOedpU"
      },
      "outputs": [],
      "source": [
        "test_data"
      ]
    },
    {
      "cell_type": "code",
      "execution_count": null,
      "metadata": {
        "id": "kKeG1Ea2CrwA"
      },
      "outputs": [],
      "source": [
        "def counting_characters(set,dataset):\n",
        "  total = 0\n",
        "  print(\"_____________________{s}_______________________\".format(s = set))\n",
        "  for i in dataset.columns[1:]:\n",
        "    sum = 0\n",
        "    for sentence in dataset[i]:\n",
        "      length = len(sentence)\n",
        "      sum+=length\n",
        "    total+=sum\n",
        "    \n",
        "    print(\"Colum Name: {col} , Number of characters: {summation}\".format(col = i, summation = sum))\n",
        "  print(\"Total number of Characters: {}\".format(total))"
      ]
    },
    {
      "cell_type": "code",
      "execution_count": null,
      "metadata": {
        "colab": {
          "base_uri": "https://localhost:8080/"
        },
        "id": "ln9dQYzSD0Cv",
        "outputId": "ff4450df-ca0e-42c0-833d-f800294532b8"
      },
      "outputs": [
        {
          "name": "stdout",
          "output_type": "stream",
          "text": [
            "_____________________Train_______________________\n",
            "Colum Name: utterance , Number of characters: 317631\n",
            "Colum Name: slot_labels , Number of characters: 458342\n",
            "Colum Name: intent , Number of characters: 34481\n",
            "Total number of Characters: 810454\n"
          ]
        }
      ],
      "source": [
        "counting_characters('Train',train_data)"
      ]
    },
    {
      "cell_type": "code",
      "execution_count": null,
      "metadata": {
        "colab": {
          "base_uri": "https://localhost:8080/"
        },
        "id": "bbu7DtWrP14Z",
        "outputId": "d1ccdbc6-e6c7-4be0-fca5-af7a2f7bef68"
      },
      "outputs": [
        {
          "name": "stdout",
          "output_type": "stream",
          "text": [
            "_____________________Test_______________________\n",
            "Colum Name: utterance , Number of characters: 51229\n",
            "Colum Name: slot_labels , Number of characters: 80345\n",
            "Colum Name: intent , Number of characters: 6276\n",
            "Total number of Characters: 137850\n"
          ]
        }
      ],
      "source": [
        "counting_characters('Test',test_data)"
      ]
    },
    {
      "cell_type": "code",
      "execution_count": null,
      "metadata": {
        "id": "inKlIwJacFR4"
      },
      "outputs": [],
      "source": [
        "class Translations:\n",
        "  \n",
        "  def __init__(self,data, language, target):\n",
        "\n",
        "    self.data = data\n",
        "    self.language = language\n",
        "    self.target = target\n",
        "\n",
        "  # Performing the translation part\n",
        "\n",
        "  def process_translations(self,line):\n",
        "\n",
        "    self.line = line\n",
        "    \n",
        "    translate_client = translate_v2.Client()\n",
        "\n",
        "    translated = translate_client.translate(self.line,target_language= self.target)\n",
        "\n",
        "    return list(translated.values())[0]\n",
        "\n",
        "  def translated_data(self):\n",
        "\n",
        "    for i in self.data.columns[1:4]:\n",
        "      self.data['{col}_{l}'.format(col = i, l = self.language)]= self.data[i].map(lambda s:self.process_translations(s))     \n",
        "\n",
        "    return self.data"
      ]
    },
    {
      "cell_type": "markdown",
      "metadata": {
        "id": "9RkxdrVeILIW"
      },
      "source": []
    },
    {
      "cell_type": "code",
      "execution_count": null,
      "metadata": {
        "colab": {
          "base_uri": "https://localhost:8080/",
          "height": 206
        },
        "id": "VJ26maWzIXqJ",
        "outputId": "ee38b2b8-e31f-497a-96b1-0c641ebbfbe6"
      },
      "outputs": [
        {
          "output_type": "execute_result",
          "data": {
            "text/plain": [
              "   id                                          utterance  \\\n",
              "0   1  i would like to find a flight from charlotte t...   \n",
              "1   2  on april first i need a ticket from tacoma to ...   \n",
              "2   3  on april first i need a flight going from phoe...   \n",
              "3   4  i would like a flight traveling one way from p...   \n",
              "4   5  i would like a flight from orlando to salt lak...   \n",
              "\n",
              "                                         slot_labels   intent  \n",
              "0  O O O O O O O O B-fromloc.city_name O B-toloc....   flight  \n",
              "1  O B-depart_date.month_name B-depart_date.day_n...  airfare  \n",
              "2  O B-depart_date.month_name B-depart_date.day_n...   flight  \n",
              "3  O O O O O O B-round_trip I-round_trip O B-from...   flight  \n",
              "4  O O O O O O B-fromloc.city_name O B-toloc.city...   flight  "
            ],
            "text/html": [
              "\n",
              "  <div id=\"df-d4a4bafc-6928-4779-9db9-17c07ba94414\">\n",
              "    <div class=\"colab-df-container\">\n",
              "      <div>\n",
              "<style scoped>\n",
              "    .dataframe tbody tr th:only-of-type {\n",
              "        vertical-align: middle;\n",
              "    }\n",
              "\n",
              "    .dataframe tbody tr th {\n",
              "        vertical-align: top;\n",
              "    }\n",
              "\n",
              "    .dataframe thead th {\n",
              "        text-align: right;\n",
              "    }\n",
              "</style>\n",
              "<table border=\"1\" class=\"dataframe\">\n",
              "  <thead>\n",
              "    <tr style=\"text-align: right;\">\n",
              "      <th></th>\n",
              "      <th>id</th>\n",
              "      <th>utterance</th>\n",
              "      <th>slot_labels</th>\n",
              "      <th>intent</th>\n",
              "    </tr>\n",
              "  </thead>\n",
              "  <tbody>\n",
              "    <tr>\n",
              "      <th>0</th>\n",
              "      <td>1</td>\n",
              "      <td>i would like to find a flight from charlotte t...</td>\n",
              "      <td>O O O O O O O O B-fromloc.city_name O B-toloc....</td>\n",
              "      <td>flight</td>\n",
              "    </tr>\n",
              "    <tr>\n",
              "      <th>1</th>\n",
              "      <td>2</td>\n",
              "      <td>on april first i need a ticket from tacoma to ...</td>\n",
              "      <td>O B-depart_date.month_name B-depart_date.day_n...</td>\n",
              "      <td>airfare</td>\n",
              "    </tr>\n",
              "    <tr>\n",
              "      <th>2</th>\n",
              "      <td>3</td>\n",
              "      <td>on april first i need a flight going from phoe...</td>\n",
              "      <td>O B-depart_date.month_name B-depart_date.day_n...</td>\n",
              "      <td>flight</td>\n",
              "    </tr>\n",
              "    <tr>\n",
              "      <th>3</th>\n",
              "      <td>4</td>\n",
              "      <td>i would like a flight traveling one way from p...</td>\n",
              "      <td>O O O O O O B-round_trip I-round_trip O B-from...</td>\n",
              "      <td>flight</td>\n",
              "    </tr>\n",
              "    <tr>\n",
              "      <th>4</th>\n",
              "      <td>5</td>\n",
              "      <td>i would like a flight from orlando to salt lak...</td>\n",
              "      <td>O O O O O O B-fromloc.city_name O B-toloc.city...</td>\n",
              "      <td>flight</td>\n",
              "    </tr>\n",
              "  </tbody>\n",
              "</table>\n",
              "</div>\n",
              "      <button class=\"colab-df-convert\" onclick=\"convertToInteractive('df-d4a4bafc-6928-4779-9db9-17c07ba94414')\"\n",
              "              title=\"Convert this dataframe to an interactive table.\"\n",
              "              style=\"display:none;\">\n",
              "        \n",
              "  <svg xmlns=\"http://www.w3.org/2000/svg\" height=\"24px\"viewBox=\"0 0 24 24\"\n",
              "       width=\"24px\">\n",
              "    <path d=\"M0 0h24v24H0V0z\" fill=\"none\"/>\n",
              "    <path d=\"M18.56 5.44l.94 2.06.94-2.06 2.06-.94-2.06-.94-.94-2.06-.94 2.06-2.06.94zm-11 1L8.5 8.5l.94-2.06 2.06-.94-2.06-.94L8.5 2.5l-.94 2.06-2.06.94zm10 10l.94 2.06.94-2.06 2.06-.94-2.06-.94-.94-2.06-.94 2.06-2.06.94z\"/><path d=\"M17.41 7.96l-1.37-1.37c-.4-.4-.92-.59-1.43-.59-.52 0-1.04.2-1.43.59L10.3 9.45l-7.72 7.72c-.78.78-.78 2.05 0 2.83L4 21.41c.39.39.9.59 1.41.59.51 0 1.02-.2 1.41-.59l7.78-7.78 2.81-2.81c.8-.78.8-2.07 0-2.86zM5.41 20L4 18.59l7.72-7.72 1.47 1.35L5.41 20z\"/>\n",
              "  </svg>\n",
              "      </button>\n",
              "      \n",
              "  <style>\n",
              "    .colab-df-container {\n",
              "      display:flex;\n",
              "      flex-wrap:wrap;\n",
              "      gap: 12px;\n",
              "    }\n",
              "\n",
              "    .colab-df-convert {\n",
              "      background-color: #E8F0FE;\n",
              "      border: none;\n",
              "      border-radius: 50%;\n",
              "      cursor: pointer;\n",
              "      display: none;\n",
              "      fill: #1967D2;\n",
              "      height: 32px;\n",
              "      padding: 0 0 0 0;\n",
              "      width: 32px;\n",
              "    }\n",
              "\n",
              "    .colab-df-convert:hover {\n",
              "      background-color: #E2EBFA;\n",
              "      box-shadow: 0px 1px 2px rgba(60, 64, 67, 0.3), 0px 1px 3px 1px rgba(60, 64, 67, 0.15);\n",
              "      fill: #174EA6;\n",
              "    }\n",
              "\n",
              "    [theme=dark] .colab-df-convert {\n",
              "      background-color: #3B4455;\n",
              "      fill: #D2E3FC;\n",
              "    }\n",
              "\n",
              "    [theme=dark] .colab-df-convert:hover {\n",
              "      background-color: #434B5C;\n",
              "      box-shadow: 0px 1px 3px 1px rgba(0, 0, 0, 0.15);\n",
              "      filter: drop-shadow(0px 1px 2px rgba(0, 0, 0, 0.3));\n",
              "      fill: #FFFFFF;\n",
              "    }\n",
              "  </style>\n",
              "\n",
              "      <script>\n",
              "        const buttonEl =\n",
              "          document.querySelector('#df-d4a4bafc-6928-4779-9db9-17c07ba94414 button.colab-df-convert');\n",
              "        buttonEl.style.display =\n",
              "          google.colab.kernel.accessAllowed ? 'block' : 'none';\n",
              "\n",
              "        async function convertToInteractive(key) {\n",
              "          const element = document.querySelector('#df-d4a4bafc-6928-4779-9db9-17c07ba94414');\n",
              "          const dataTable =\n",
              "            await google.colab.kernel.invokeFunction('convertToInteractive',\n",
              "                                                     [key], {});\n",
              "          if (!dataTable) return;\n",
              "\n",
              "          const docLinkHtml = 'Like what you see? Visit the ' +\n",
              "            '<a target=\"_blank\" href=https://colab.research.google.com/notebooks/data_table.ipynb>data table notebook</a>'\n",
              "            + ' to learn more about interactive tables.';\n",
              "          element.innerHTML = '';\n",
              "          dataTable['output_type'] = 'display_data';\n",
              "          await google.colab.output.renderOutput(dataTable, element);\n",
              "          const docLink = document.createElement('div');\n",
              "          docLink.innerHTML = docLinkHtml;\n",
              "          element.appendChild(docLink);\n",
              "        }\n",
              "      </script>\n",
              "    </div>\n",
              "  </div>\n",
              "  "
            ]
          },
          "metadata": {},
          "execution_count": 9
        }
      ],
      "source": [
        "test_data.head()"
      ]
    },
    {
      "cell_type": "code",
      "execution_count": null,
      "metadata": {
        "id": "cWc8-KFO-v_w"
      },
      "outputs": [],
      "source": [
        "trans = Translations(test_data,'Kinyarwanda','rw')\n",
        "translated_kin_df = trans.translated_data()"
      ]
    },
    {
      "cell_type": "code",
      "execution_count": null,
      "metadata": {
        "id": "CUfV-gat_Hz3"
      },
      "outputs": [],
      "source": [
        "translated_kin_df.to_csv(r'')"
      ]
    },
    {
      "cell_type": "code",
      "execution_count": null,
      "metadata": {
        "id": "42Fb0tDwyVIH"
      },
      "outputs": [],
      "source": [
        "#The same can done for other languages "
      ]
    }
  ],
  "metadata": {
    "colab": {
      "provenance": []
    },
    "kernelspec": {
      "display_name": "Python 3",
      "name": "python3"
    },
    "language_info": {
      "name": "python"
    }
  },
  "nbformat": 4,
  "nbformat_minor": 0
}