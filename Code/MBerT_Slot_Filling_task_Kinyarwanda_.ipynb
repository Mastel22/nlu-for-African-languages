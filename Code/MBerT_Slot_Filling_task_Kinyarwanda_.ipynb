{
  "nbformat": 4,
  "nbformat_minor": 0,
  "metadata": {
    "accelerator": "GPU",
    "colab": {
      "provenance": [],
      "machine_shape": "hm",
      "collapsed_sections": [
        "E2kDm0-tbeXb",
        "wqgWOetUcemB",
        "q399LhkCjCa8",
        "xIgGo8ECtvfy",
        "b5TuDZR26jwq",
        "PoTr6Et0hoKm",
        "LATnIrGKiMzO",
        "KISsxUXO6aA1"
      ]
    },
    "kernelspec": {
      "display_name": "Python 3",
      "language": "python",
      "name": "python3"
    },
    "language_info": {
      "codemirror_mode": {
        "name": "ipython",
        "version": 3
      },
      "file_extension": ".py",
      "mimetype": "text/x-python",
      "name": "python",
      "nbconvert_exporter": "python",
      "pygments_lexer": "ipython3",
      "version": "3.7.6"
    },
    "gpuClass": "standard",
    "widgets": {
      "application/vnd.jupyter.widget-state+json": {
        "2761d16c364444238d1a861d78949d50": {
          "model_module": "@jupyter-widgets/controls",
          "model_name": "HBoxModel",
          "model_module_version": "1.5.0",
          "state": {
            "_dom_classes": [],
            "_model_module": "@jupyter-widgets/controls",
            "_model_module_version": "1.5.0",
            "_model_name": "HBoxModel",
            "_view_count": null,
            "_view_module": "@jupyter-widgets/controls",
            "_view_module_version": "1.5.0",
            "_view_name": "HBoxView",
            "box_style": "",
            "children": [
              "IPY_MODEL_d3779d11375244eb8ea07319053f7cef",
              "IPY_MODEL_9af53ff68a11486d81ffd32190d9702a",
              "IPY_MODEL_b0b0a626c9d74d39a1f3f51f5f3148f4"
            ],
            "layout": "IPY_MODEL_697fafaf7fba4198b3a05cc1412f9555"
          }
        },
        "d3779d11375244eb8ea07319053f7cef": {
          "model_module": "@jupyter-widgets/controls",
          "model_name": "HTMLModel",
          "model_module_version": "1.5.0",
          "state": {
            "_dom_classes": [],
            "_model_module": "@jupyter-widgets/controls",
            "_model_module_version": "1.5.0",
            "_model_name": "HTMLModel",
            "_view_count": null,
            "_view_module": "@jupyter-widgets/controls",
            "_view_module_version": "1.5.0",
            "_view_name": "HTMLView",
            "description": "",
            "description_tooltip": null,
            "layout": "IPY_MODEL_65084bb7a6fd4355a5abef3a4a4954bc",
            "placeholder": "​",
            "style": "IPY_MODEL_07397157c2954f98b65ad6bf6f7dc419",
            "value": "Downloading: 100%"
          }
        },
        "9af53ff68a11486d81ffd32190d9702a": {
          "model_module": "@jupyter-widgets/controls",
          "model_name": "FloatProgressModel",
          "model_module_version": "1.5.0",
          "state": {
            "_dom_classes": [],
            "_model_module": "@jupyter-widgets/controls",
            "_model_module_version": "1.5.0",
            "_model_name": "FloatProgressModel",
            "_view_count": null,
            "_view_module": "@jupyter-widgets/controls",
            "_view_module_version": "1.5.0",
            "_view_name": "ProgressView",
            "bar_style": "success",
            "description": "",
            "description_tooltip": null,
            "layout": "IPY_MODEL_6033ff029b154802a04cf50d7784da20",
            "max": 231508,
            "min": 0,
            "orientation": "horizontal",
            "style": "IPY_MODEL_a13b2a74f8b6437dac88b700250539a4",
            "value": 231508
          }
        },
        "b0b0a626c9d74d39a1f3f51f5f3148f4": {
          "model_module": "@jupyter-widgets/controls",
          "model_name": "HTMLModel",
          "model_module_version": "1.5.0",
          "state": {
            "_dom_classes": [],
            "_model_module": "@jupyter-widgets/controls",
            "_model_module_version": "1.5.0",
            "_model_name": "HTMLModel",
            "_view_count": null,
            "_view_module": "@jupyter-widgets/controls",
            "_view_module_version": "1.5.0",
            "_view_name": "HTMLView",
            "description": "",
            "description_tooltip": null,
            "layout": "IPY_MODEL_b47aa9cbf2a2405987db4c79acdebf73",
            "placeholder": "​",
            "style": "IPY_MODEL_c67c76d3138542008391642f8137690e",
            "value": " 232k/232k [00:00&lt;00:00, 1.68MB/s]"
          }
        },
        "697fafaf7fba4198b3a05cc1412f9555": {
          "model_module": "@jupyter-widgets/base",
          "model_name": "LayoutModel",
          "model_module_version": "1.2.0",
          "state": {
            "_model_module": "@jupyter-widgets/base",
            "_model_module_version": "1.2.0",
            "_model_name": "LayoutModel",
            "_view_count": null,
            "_view_module": "@jupyter-widgets/base",
            "_view_module_version": "1.2.0",
            "_view_name": "LayoutView",
            "align_content": null,
            "align_items": null,
            "align_self": null,
            "border": null,
            "bottom": null,
            "display": null,
            "flex": null,
            "flex_flow": null,
            "grid_area": null,
            "grid_auto_columns": null,
            "grid_auto_flow": null,
            "grid_auto_rows": null,
            "grid_column": null,
            "grid_gap": null,
            "grid_row": null,
            "grid_template_areas": null,
            "grid_template_columns": null,
            "grid_template_rows": null,
            "height": null,
            "justify_content": null,
            "justify_items": null,
            "left": null,
            "margin": null,
            "max_height": null,
            "max_width": null,
            "min_height": null,
            "min_width": null,
            "object_fit": null,
            "object_position": null,
            "order": null,
            "overflow": null,
            "overflow_x": null,
            "overflow_y": null,
            "padding": null,
            "right": null,
            "top": null,
            "visibility": null,
            "width": null
          }
        },
        "65084bb7a6fd4355a5abef3a4a4954bc": {
          "model_module": "@jupyter-widgets/base",
          "model_name": "LayoutModel",
          "model_module_version": "1.2.0",
          "state": {
            "_model_module": "@jupyter-widgets/base",
            "_model_module_version": "1.2.0",
            "_model_name": "LayoutModel",
            "_view_count": null,
            "_view_module": "@jupyter-widgets/base",
            "_view_module_version": "1.2.0",
            "_view_name": "LayoutView",
            "align_content": null,
            "align_items": null,
            "align_self": null,
            "border": null,
            "bottom": null,
            "display": null,
            "flex": null,
            "flex_flow": null,
            "grid_area": null,
            "grid_auto_columns": null,
            "grid_auto_flow": null,
            "grid_auto_rows": null,
            "grid_column": null,
            "grid_gap": null,
            "grid_row": null,
            "grid_template_areas": null,
            "grid_template_columns": null,
            "grid_template_rows": null,
            "height": null,
            "justify_content": null,
            "justify_items": null,
            "left": null,
            "margin": null,
            "max_height": null,
            "max_width": null,
            "min_height": null,
            "min_width": null,
            "object_fit": null,
            "object_position": null,
            "order": null,
            "overflow": null,
            "overflow_x": null,
            "overflow_y": null,
            "padding": null,
            "right": null,
            "top": null,
            "visibility": null,
            "width": null
          }
        },
        "07397157c2954f98b65ad6bf6f7dc419": {
          "model_module": "@jupyter-widgets/controls",
          "model_name": "DescriptionStyleModel",
          "model_module_version": "1.5.0",
          "state": {
            "_model_module": "@jupyter-widgets/controls",
            "_model_module_version": "1.5.0",
            "_model_name": "DescriptionStyleModel",
            "_view_count": null,
            "_view_module": "@jupyter-widgets/base",
            "_view_module_version": "1.2.0",
            "_view_name": "StyleView",
            "description_width": ""
          }
        },
        "6033ff029b154802a04cf50d7784da20": {
          "model_module": "@jupyter-widgets/base",
          "model_name": "LayoutModel",
          "model_module_version": "1.2.0",
          "state": {
            "_model_module": "@jupyter-widgets/base",
            "_model_module_version": "1.2.0",
            "_model_name": "LayoutModel",
            "_view_count": null,
            "_view_module": "@jupyter-widgets/base",
            "_view_module_version": "1.2.0",
            "_view_name": "LayoutView",
            "align_content": null,
            "align_items": null,
            "align_self": null,
            "border": null,
            "bottom": null,
            "display": null,
            "flex": null,
            "flex_flow": null,
            "grid_area": null,
            "grid_auto_columns": null,
            "grid_auto_flow": null,
            "grid_auto_rows": null,
            "grid_column": null,
            "grid_gap": null,
            "grid_row": null,
            "grid_template_areas": null,
            "grid_template_columns": null,
            "grid_template_rows": null,
            "height": null,
            "justify_content": null,
            "justify_items": null,
            "left": null,
            "margin": null,
            "max_height": null,
            "max_width": null,
            "min_height": null,
            "min_width": null,
            "object_fit": null,
            "object_position": null,
            "order": null,
            "overflow": null,
            "overflow_x": null,
            "overflow_y": null,
            "padding": null,
            "right": null,
            "top": null,
            "visibility": null,
            "width": null
          }
        },
        "a13b2a74f8b6437dac88b700250539a4": {
          "model_module": "@jupyter-widgets/controls",
          "model_name": "ProgressStyleModel",
          "model_module_version": "1.5.0",
          "state": {
            "_model_module": "@jupyter-widgets/controls",
            "_model_module_version": "1.5.0",
            "_model_name": "ProgressStyleModel",
            "_view_count": null,
            "_view_module": "@jupyter-widgets/base",
            "_view_module_version": "1.2.0",
            "_view_name": "StyleView",
            "bar_color": null,
            "description_width": ""
          }
        },
        "b47aa9cbf2a2405987db4c79acdebf73": {
          "model_module": "@jupyter-widgets/base",
          "model_name": "LayoutModel",
          "model_module_version": "1.2.0",
          "state": {
            "_model_module": "@jupyter-widgets/base",
            "_model_module_version": "1.2.0",
            "_model_name": "LayoutModel",
            "_view_count": null,
            "_view_module": "@jupyter-widgets/base",
            "_view_module_version": "1.2.0",
            "_view_name": "LayoutView",
            "align_content": null,
            "align_items": null,
            "align_self": null,
            "border": null,
            "bottom": null,
            "display": null,
            "flex": null,
            "flex_flow": null,
            "grid_area": null,
            "grid_auto_columns": null,
            "grid_auto_flow": null,
            "grid_auto_rows": null,
            "grid_column": null,
            "grid_gap": null,
            "grid_row": null,
            "grid_template_areas": null,
            "grid_template_columns": null,
            "grid_template_rows": null,
            "height": null,
            "justify_content": null,
            "justify_items": null,
            "left": null,
            "margin": null,
            "max_height": null,
            "max_width": null,
            "min_height": null,
            "min_width": null,
            "object_fit": null,
            "object_position": null,
            "order": null,
            "overflow": null,
            "overflow_x": null,
            "overflow_y": null,
            "padding": null,
            "right": null,
            "top": null,
            "visibility": null,
            "width": null
          }
        },
        "c67c76d3138542008391642f8137690e": {
          "model_module": "@jupyter-widgets/controls",
          "model_name": "DescriptionStyleModel",
          "model_module_version": "1.5.0",
          "state": {
            "_model_module": "@jupyter-widgets/controls",
            "_model_module_version": "1.5.0",
            "_model_name": "DescriptionStyleModel",
            "_view_count": null,
            "_view_module": "@jupyter-widgets/base",
            "_view_module_version": "1.2.0",
            "_view_name": "StyleView",
            "description_width": ""
          }
        },
        "59917a745c97464abfaca3bfe9138edf": {
          "model_module": "@jupyter-widgets/controls",
          "model_name": "HBoxModel",
          "model_module_version": "1.5.0",
          "state": {
            "_dom_classes": [],
            "_model_module": "@jupyter-widgets/controls",
            "_model_module_version": "1.5.0",
            "_model_name": "HBoxModel",
            "_view_count": null,
            "_view_module": "@jupyter-widgets/controls",
            "_view_module_version": "1.5.0",
            "_view_name": "HBoxView",
            "box_style": "",
            "children": [
              "IPY_MODEL_f97aa6a4441f4756b04dbc1bb8c841ce",
              "IPY_MODEL_fb9e096729474a7897785a777c9917e9",
              "IPY_MODEL_90b086570bd44e029c95bed6db7fdeb6"
            ],
            "layout": "IPY_MODEL_b2ee2a5db9db41099ad30214a50227c2"
          }
        },
        "f97aa6a4441f4756b04dbc1bb8c841ce": {
          "model_module": "@jupyter-widgets/controls",
          "model_name": "HTMLModel",
          "model_module_version": "1.5.0",
          "state": {
            "_dom_classes": [],
            "_model_module": "@jupyter-widgets/controls",
            "_model_module_version": "1.5.0",
            "_model_name": "HTMLModel",
            "_view_count": null,
            "_view_module": "@jupyter-widgets/controls",
            "_view_module_version": "1.5.0",
            "_view_name": "HTMLView",
            "description": "",
            "description_tooltip": null,
            "layout": "IPY_MODEL_96cedbb1ee0f478cab9e4d916ee5b83e",
            "placeholder": "​",
            "style": "IPY_MODEL_cc064ec58d294e36acbe2684f639c9e3",
            "value": "Downloading: 100%"
          }
        },
        "fb9e096729474a7897785a777c9917e9": {
          "model_module": "@jupyter-widgets/controls",
          "model_name": "FloatProgressModel",
          "model_module_version": "1.5.0",
          "state": {
            "_dom_classes": [],
            "_model_module": "@jupyter-widgets/controls",
            "_model_module_version": "1.5.0",
            "_model_name": "FloatProgressModel",
            "_view_count": null,
            "_view_module": "@jupyter-widgets/controls",
            "_view_module_version": "1.5.0",
            "_view_name": "ProgressView",
            "bar_style": "success",
            "description": "",
            "description_tooltip": null,
            "layout": "IPY_MODEL_ea113ec01ce94104a895ca93fef85351",
            "max": 433,
            "min": 0,
            "orientation": "horizontal",
            "style": "IPY_MODEL_d83bc8550df041f49d0b7696b19491b4",
            "value": 433
          }
        },
        "90b086570bd44e029c95bed6db7fdeb6": {
          "model_module": "@jupyter-widgets/controls",
          "model_name": "HTMLModel",
          "model_module_version": "1.5.0",
          "state": {
            "_dom_classes": [],
            "_model_module": "@jupyter-widgets/controls",
            "_model_module_version": "1.5.0",
            "_model_name": "HTMLModel",
            "_view_count": null,
            "_view_module": "@jupyter-widgets/controls",
            "_view_module_version": "1.5.0",
            "_view_name": "HTMLView",
            "description": "",
            "description_tooltip": null,
            "layout": "IPY_MODEL_d27c7affbb4e48c8839ce7011ecffca3",
            "placeholder": "​",
            "style": "IPY_MODEL_42477a04a3bb4303bb9561abd6732af4",
            "value": " 433/433 [00:00&lt;00:00, 16.3kB/s]"
          }
        },
        "b2ee2a5db9db41099ad30214a50227c2": {
          "model_module": "@jupyter-widgets/base",
          "model_name": "LayoutModel",
          "model_module_version": "1.2.0",
          "state": {
            "_model_module": "@jupyter-widgets/base",
            "_model_module_version": "1.2.0",
            "_model_name": "LayoutModel",
            "_view_count": null,
            "_view_module": "@jupyter-widgets/base",
            "_view_module_version": "1.2.0",
            "_view_name": "LayoutView",
            "align_content": null,
            "align_items": null,
            "align_self": null,
            "border": null,
            "bottom": null,
            "display": null,
            "flex": null,
            "flex_flow": null,
            "grid_area": null,
            "grid_auto_columns": null,
            "grid_auto_flow": null,
            "grid_auto_rows": null,
            "grid_column": null,
            "grid_gap": null,
            "grid_row": null,
            "grid_template_areas": null,
            "grid_template_columns": null,
            "grid_template_rows": null,
            "height": null,
            "justify_content": null,
            "justify_items": null,
            "left": null,
            "margin": null,
            "max_height": null,
            "max_width": null,
            "min_height": null,
            "min_width": null,
            "object_fit": null,
            "object_position": null,
            "order": null,
            "overflow": null,
            "overflow_x": null,
            "overflow_y": null,
            "padding": null,
            "right": null,
            "top": null,
            "visibility": null,
            "width": null
          }
        },
        "96cedbb1ee0f478cab9e4d916ee5b83e": {
          "model_module": "@jupyter-widgets/base",
          "model_name": "LayoutModel",
          "model_module_version": "1.2.0",
          "state": {
            "_model_module": "@jupyter-widgets/base",
            "_model_module_version": "1.2.0",
            "_model_name": "LayoutModel",
            "_view_count": null,
            "_view_module": "@jupyter-widgets/base",
            "_view_module_version": "1.2.0",
            "_view_name": "LayoutView",
            "align_content": null,
            "align_items": null,
            "align_self": null,
            "border": null,
            "bottom": null,
            "display": null,
            "flex": null,
            "flex_flow": null,
            "grid_area": null,
            "grid_auto_columns": null,
            "grid_auto_flow": null,
            "grid_auto_rows": null,
            "grid_column": null,
            "grid_gap": null,
            "grid_row": null,
            "grid_template_areas": null,
            "grid_template_columns": null,
            "grid_template_rows": null,
            "height": null,
            "justify_content": null,
            "justify_items": null,
            "left": null,
            "margin": null,
            "max_height": null,
            "max_width": null,
            "min_height": null,
            "min_width": null,
            "object_fit": null,
            "object_position": null,
            "order": null,
            "overflow": null,
            "overflow_x": null,
            "overflow_y": null,
            "padding": null,
            "right": null,
            "top": null,
            "visibility": null,
            "width": null
          }
        },
        "cc064ec58d294e36acbe2684f639c9e3": {
          "model_module": "@jupyter-widgets/controls",
          "model_name": "DescriptionStyleModel",
          "model_module_version": "1.5.0",
          "state": {
            "_model_module": "@jupyter-widgets/controls",
            "_model_module_version": "1.5.0",
            "_model_name": "DescriptionStyleModel",
            "_view_count": null,
            "_view_module": "@jupyter-widgets/base",
            "_view_module_version": "1.2.0",
            "_view_name": "StyleView",
            "description_width": ""
          }
        },
        "ea113ec01ce94104a895ca93fef85351": {
          "model_module": "@jupyter-widgets/base",
          "model_name": "LayoutModel",
          "model_module_version": "1.2.0",
          "state": {
            "_model_module": "@jupyter-widgets/base",
            "_model_module_version": "1.2.0",
            "_model_name": "LayoutModel",
            "_view_count": null,
            "_view_module": "@jupyter-widgets/base",
            "_view_module_version": "1.2.0",
            "_view_name": "LayoutView",
            "align_content": null,
            "align_items": null,
            "align_self": null,
            "border": null,
            "bottom": null,
            "display": null,
            "flex": null,
            "flex_flow": null,
            "grid_area": null,
            "grid_auto_columns": null,
            "grid_auto_flow": null,
            "grid_auto_rows": null,
            "grid_column": null,
            "grid_gap": null,
            "grid_row": null,
            "grid_template_areas": null,
            "grid_template_columns": null,
            "grid_template_rows": null,
            "height": null,
            "justify_content": null,
            "justify_items": null,
            "left": null,
            "margin": null,
            "max_height": null,
            "max_width": null,
            "min_height": null,
            "min_width": null,
            "object_fit": null,
            "object_position": null,
            "order": null,
            "overflow": null,
            "overflow_x": null,
            "overflow_y": null,
            "padding": null,
            "right": null,
            "top": null,
            "visibility": null,
            "width": null
          }
        },
        "d83bc8550df041f49d0b7696b19491b4": {
          "model_module": "@jupyter-widgets/controls",
          "model_name": "ProgressStyleModel",
          "model_module_version": "1.5.0",
          "state": {
            "_model_module": "@jupyter-widgets/controls",
            "_model_module_version": "1.5.0",
            "_model_name": "ProgressStyleModel",
            "_view_count": null,
            "_view_module": "@jupyter-widgets/base",
            "_view_module_version": "1.2.0",
            "_view_name": "StyleView",
            "bar_color": null,
            "description_width": ""
          }
        },
        "d27c7affbb4e48c8839ce7011ecffca3": {
          "model_module": "@jupyter-widgets/base",
          "model_name": "LayoutModel",
          "model_module_version": "1.2.0",
          "state": {
            "_model_module": "@jupyter-widgets/base",
            "_model_module_version": "1.2.0",
            "_model_name": "LayoutModel",
            "_view_count": null,
            "_view_module": "@jupyter-widgets/base",
            "_view_module_version": "1.2.0",
            "_view_name": "LayoutView",
            "align_content": null,
            "align_items": null,
            "align_self": null,
            "border": null,
            "bottom": null,
            "display": null,
            "flex": null,
            "flex_flow": null,
            "grid_area": null,
            "grid_auto_columns": null,
            "grid_auto_flow": null,
            "grid_auto_rows": null,
            "grid_column": null,
            "grid_gap": null,
            "grid_row": null,
            "grid_template_areas": null,
            "grid_template_columns": null,
            "grid_template_rows": null,
            "height": null,
            "justify_content": null,
            "justify_items": null,
            "left": null,
            "margin": null,
            "max_height": null,
            "max_width": null,
            "min_height": null,
            "min_width": null,
            "object_fit": null,
            "object_position": null,
            "order": null,
            "overflow": null,
            "overflow_x": null,
            "overflow_y": null,
            "padding": null,
            "right": null,
            "top": null,
            "visibility": null,
            "width": null
          }
        },
        "42477a04a3bb4303bb9561abd6732af4": {
          "model_module": "@jupyter-widgets/controls",
          "model_name": "DescriptionStyleModel",
          "model_module_version": "1.5.0",
          "state": {
            "_model_module": "@jupyter-widgets/controls",
            "_model_module_version": "1.5.0",
            "_model_name": "DescriptionStyleModel",
            "_view_count": null,
            "_view_module": "@jupyter-widgets/base",
            "_view_module_version": "1.2.0",
            "_view_name": "StyleView",
            "description_width": ""
          }
        },
        "2c814398896b438686f1f810b14dcf31": {
          "model_module": "@jupyter-widgets/controls",
          "model_name": "HBoxModel",
          "model_module_version": "1.5.0",
          "state": {
            "_dom_classes": [],
            "_model_module": "@jupyter-widgets/controls",
            "_model_module_version": "1.5.0",
            "_model_name": "HBoxModel",
            "_view_count": null,
            "_view_module": "@jupyter-widgets/controls",
            "_view_module_version": "1.5.0",
            "_view_name": "HBoxView",
            "box_style": "",
            "children": [
              "IPY_MODEL_bee52cae2a3d446bab8dc0ee1d7f575e",
              "IPY_MODEL_48aad62f81124878a756cb02375cd50f",
              "IPY_MODEL_dca20f94085d4429a9f6ce8982ec34a7"
            ],
            "layout": "IPY_MODEL_ff011b4ce3db404ea0af595feed7f83b"
          }
        },
        "bee52cae2a3d446bab8dc0ee1d7f575e": {
          "model_module": "@jupyter-widgets/controls",
          "model_name": "HTMLModel",
          "model_module_version": "1.5.0",
          "state": {
            "_dom_classes": [],
            "_model_module": "@jupyter-widgets/controls",
            "_model_module_version": "1.5.0",
            "_model_name": "HTMLModel",
            "_view_count": null,
            "_view_module": "@jupyter-widgets/controls",
            "_view_module_version": "1.5.0",
            "_view_name": "HTMLView",
            "description": "",
            "description_tooltip": null,
            "layout": "IPY_MODEL_94aec151f393468a9814623669218cf5",
            "placeholder": "​",
            "style": "IPY_MODEL_bf7293f23eee40abaed0f35453750daf",
            "value": "Downloading: 100%"
          }
        },
        "48aad62f81124878a756cb02375cd50f": {
          "model_module": "@jupyter-widgets/controls",
          "model_name": "FloatProgressModel",
          "model_module_version": "1.5.0",
          "state": {
            "_dom_classes": [],
            "_model_module": "@jupyter-widgets/controls",
            "_model_module_version": "1.5.0",
            "_model_name": "FloatProgressModel",
            "_view_count": null,
            "_view_module": "@jupyter-widgets/controls",
            "_view_module_version": "1.5.0",
            "_view_name": "ProgressView",
            "bar_style": "success",
            "description": "",
            "description_tooltip": null,
            "layout": "IPY_MODEL_c3bd7ab0fcf34cca9bf8eb0303ca5408",
            "max": 536063208,
            "min": 0,
            "orientation": "horizontal",
            "style": "IPY_MODEL_386d2797831746268fbf18d0afc74712",
            "value": 536063208
          }
        },
        "dca20f94085d4429a9f6ce8982ec34a7": {
          "model_module": "@jupyter-widgets/controls",
          "model_name": "HTMLModel",
          "model_module_version": "1.5.0",
          "state": {
            "_dom_classes": [],
            "_model_module": "@jupyter-widgets/controls",
            "_model_module_version": "1.5.0",
            "_model_name": "HTMLModel",
            "_view_count": null,
            "_view_module": "@jupyter-widgets/controls",
            "_view_module_version": "1.5.0",
            "_view_name": "HTMLView",
            "description": "",
            "description_tooltip": null,
            "layout": "IPY_MODEL_1640fa809fae48bc8a48751de099e8d9",
            "placeholder": "​",
            "style": "IPY_MODEL_efa9a44234a847b4bf5f7c9a26a4b56a",
            "value": " 536M/536M [00:12&lt;00:00, 44.7MB/s]"
          }
        },
        "ff011b4ce3db404ea0af595feed7f83b": {
          "model_module": "@jupyter-widgets/base",
          "model_name": "LayoutModel",
          "model_module_version": "1.2.0",
          "state": {
            "_model_module": "@jupyter-widgets/base",
            "_model_module_version": "1.2.0",
            "_model_name": "LayoutModel",
            "_view_count": null,
            "_view_module": "@jupyter-widgets/base",
            "_view_module_version": "1.2.0",
            "_view_name": "LayoutView",
            "align_content": null,
            "align_items": null,
            "align_self": null,
            "border": null,
            "bottom": null,
            "display": null,
            "flex": null,
            "flex_flow": null,
            "grid_area": null,
            "grid_auto_columns": null,
            "grid_auto_flow": null,
            "grid_auto_rows": null,
            "grid_column": null,
            "grid_gap": null,
            "grid_row": null,
            "grid_template_areas": null,
            "grid_template_columns": null,
            "grid_template_rows": null,
            "height": null,
            "justify_content": null,
            "justify_items": null,
            "left": null,
            "margin": null,
            "max_height": null,
            "max_width": null,
            "min_height": null,
            "min_width": null,
            "object_fit": null,
            "object_position": null,
            "order": null,
            "overflow": null,
            "overflow_x": null,
            "overflow_y": null,
            "padding": null,
            "right": null,
            "top": null,
            "visibility": null,
            "width": null
          }
        },
        "94aec151f393468a9814623669218cf5": {
          "model_module": "@jupyter-widgets/base",
          "model_name": "LayoutModel",
          "model_module_version": "1.2.0",
          "state": {
            "_model_module": "@jupyter-widgets/base",
            "_model_module_version": "1.2.0",
            "_model_name": "LayoutModel",
            "_view_count": null,
            "_view_module": "@jupyter-widgets/base",
            "_view_module_version": "1.2.0",
            "_view_name": "LayoutView",
            "align_content": null,
            "align_items": null,
            "align_self": null,
            "border": null,
            "bottom": null,
            "display": null,
            "flex": null,
            "flex_flow": null,
            "grid_area": null,
            "grid_auto_columns": null,
            "grid_auto_flow": null,
            "grid_auto_rows": null,
            "grid_column": null,
            "grid_gap": null,
            "grid_row": null,
            "grid_template_areas": null,
            "grid_template_columns": null,
            "grid_template_rows": null,
            "height": null,
            "justify_content": null,
            "justify_items": null,
            "left": null,
            "margin": null,
            "max_height": null,
            "max_width": null,
            "min_height": null,
            "min_width": null,
            "object_fit": null,
            "object_position": null,
            "order": null,
            "overflow": null,
            "overflow_x": null,
            "overflow_y": null,
            "padding": null,
            "right": null,
            "top": null,
            "visibility": null,
            "width": null
          }
        },
        "bf7293f23eee40abaed0f35453750daf": {
          "model_module": "@jupyter-widgets/controls",
          "model_name": "DescriptionStyleModel",
          "model_module_version": "1.5.0",
          "state": {
            "_model_module": "@jupyter-widgets/controls",
            "_model_module_version": "1.5.0",
            "_model_name": "DescriptionStyleModel",
            "_view_count": null,
            "_view_module": "@jupyter-widgets/base",
            "_view_module_version": "1.2.0",
            "_view_name": "StyleView",
            "description_width": ""
          }
        },
        "c3bd7ab0fcf34cca9bf8eb0303ca5408": {
          "model_module": "@jupyter-widgets/base",
          "model_name": "LayoutModel",
          "model_module_version": "1.2.0",
          "state": {
            "_model_module": "@jupyter-widgets/base",
            "_model_module_version": "1.2.0",
            "_model_name": "LayoutModel",
            "_view_count": null,
            "_view_module": "@jupyter-widgets/base",
            "_view_module_version": "1.2.0",
            "_view_name": "LayoutView",
            "align_content": null,
            "align_items": null,
            "align_self": null,
            "border": null,
            "bottom": null,
            "display": null,
            "flex": null,
            "flex_flow": null,
            "grid_area": null,
            "grid_auto_columns": null,
            "grid_auto_flow": null,
            "grid_auto_rows": null,
            "grid_column": null,
            "grid_gap": null,
            "grid_row": null,
            "grid_template_areas": null,
            "grid_template_columns": null,
            "grid_template_rows": null,
            "height": null,
            "justify_content": null,
            "justify_items": null,
            "left": null,
            "margin": null,
            "max_height": null,
            "max_width": null,
            "min_height": null,
            "min_width": null,
            "object_fit": null,
            "object_position": null,
            "order": null,
            "overflow": null,
            "overflow_x": null,
            "overflow_y": null,
            "padding": null,
            "right": null,
            "top": null,
            "visibility": null,
            "width": null
          }
        },
        "386d2797831746268fbf18d0afc74712": {
          "model_module": "@jupyter-widgets/controls",
          "model_name": "ProgressStyleModel",
          "model_module_version": "1.5.0",
          "state": {
            "_model_module": "@jupyter-widgets/controls",
            "_model_module_version": "1.5.0",
            "_model_name": "ProgressStyleModel",
            "_view_count": null,
            "_view_module": "@jupyter-widgets/base",
            "_view_module_version": "1.2.0",
            "_view_name": "StyleView",
            "bar_color": null,
            "description_width": ""
          }
        },
        "1640fa809fae48bc8a48751de099e8d9": {
          "model_module": "@jupyter-widgets/base",
          "model_name": "LayoutModel",
          "model_module_version": "1.2.0",
          "state": {
            "_model_module": "@jupyter-widgets/base",
            "_model_module_version": "1.2.0",
            "_model_name": "LayoutModel",
            "_view_count": null,
            "_view_module": "@jupyter-widgets/base",
            "_view_module_version": "1.2.0",
            "_view_name": "LayoutView",
            "align_content": null,
            "align_items": null,
            "align_self": null,
            "border": null,
            "bottom": null,
            "display": null,
            "flex": null,
            "flex_flow": null,
            "grid_area": null,
            "grid_auto_columns": null,
            "grid_auto_flow": null,
            "grid_auto_rows": null,
            "grid_column": null,
            "grid_gap": null,
            "grid_row": null,
            "grid_template_areas": null,
            "grid_template_columns": null,
            "grid_template_rows": null,
            "height": null,
            "justify_content": null,
            "justify_items": null,
            "left": null,
            "margin": null,
            "max_height": null,
            "max_width": null,
            "min_height": null,
            "min_width": null,
            "object_fit": null,
            "object_position": null,
            "order": null,
            "overflow": null,
            "overflow_x": null,
            "overflow_y": null,
            "padding": null,
            "right": null,
            "top": null,
            "visibility": null,
            "width": null
          }
        },
        "efa9a44234a847b4bf5f7c9a26a4b56a": {
          "model_module": "@jupyter-widgets/controls",
          "model_name": "DescriptionStyleModel",
          "model_module_version": "1.5.0",
          "state": {
            "_model_module": "@jupyter-widgets/controls",
            "_model_module_version": "1.5.0",
            "_model_name": "DescriptionStyleModel",
            "_view_count": null,
            "_view_module": "@jupyter-widgets/base",
            "_view_module_version": "1.2.0",
            "_view_name": "StyleView",
            "description_width": ""
          }
        }
      }
    }
  },
  "cells": [
    {
      "cell_type": "code",
      "source": [
        "from google.colab import drive\n",
        "drive.mount('/content/drive')"
      ],
      "metadata": {
        "id": "AWusIgdObskV",
        "outputId": "736be8da-19db-4da2-af55-cc483cb6ef3c",
        "colab": {
          "base_uri": "https://localhost:8080/"
        }
      },
      "execution_count": null,
      "outputs": [
        {
          "output_type": "stream",
          "name": "stdout",
          "text": [
            "Mounted at /content/drive\n"
          ]
        }
      ]
    },
    {
      "cell_type": "code",
      "source": [
        "!nvidia-smi"
      ],
      "metadata": {
        "id": "FRIrLtyAkO2u",
        "colab": {
          "base_uri": "https://localhost:8080/"
        },
        "outputId": "b11ac27f-bd26-4787-f08c-d31576531ac5"
      },
      "execution_count": null,
      "outputs": [
        {
          "output_type": "stream",
          "name": "stdout",
          "text": [
            "Tue Dec 13 07:42:41 2022       \n",
            "+-----------------------------------------------------------------------------+\n",
            "| NVIDIA-SMI 460.32.03    Driver Version: 460.32.03    CUDA Version: 11.2     |\n",
            "|-------------------------------+----------------------+----------------------+\n",
            "| GPU  Name        Persistence-M| Bus-Id        Disp.A | Volatile Uncorr. ECC |\n",
            "| Fan  Temp  Perf  Pwr:Usage/Cap|         Memory-Usage | GPU-Util  Compute M. |\n",
            "|                               |                      |               MIG M. |\n",
            "|===============================+======================+======================|\n",
            "|   0  Tesla T4            Off  | 00000000:00:04.0 Off |                    0 |\n",
            "| N/A   52C    P0    26W /  70W |      0MiB / 15109MiB |      0%      Default |\n",
            "|                               |                      |                  N/A |\n",
            "+-------------------------------+----------------------+----------------------+\n",
            "                                                                               \n",
            "+-----------------------------------------------------------------------------+\n",
            "| Processes:                                                                  |\n",
            "|  GPU   GI   CI        PID   Type   Process name                  GPU Memory |\n",
            "|        ID   ID                                                   Usage      |\n",
            "|=============================================================================|\n",
            "|  No running processes found                                                 |\n",
            "+-----------------------------------------------------------------------------+\n"
          ]
        }
      ]
    },
    {
      "cell_type": "code",
      "source": [
        "## Model saving \n",
        "!pip install h5py pyyaml"
      ],
      "metadata": {
        "colab": {
          "base_uri": "https://localhost:8080/"
        },
        "id": "Iwz1HMymTuI7",
        "outputId": "2af7b4fe-dbf7-4686-f31d-f3059465fb54"
      },
      "execution_count": null,
      "outputs": [
        {
          "output_type": "stream",
          "name": "stdout",
          "text": [
            "Looking in indexes: https://pypi.org/simple, https://us-python.pkg.dev/colab-wheels/public/simple/\n",
            "Requirement already satisfied: h5py in /usr/local/lib/python3.8/dist-packages (3.1.0)\n",
            "Requirement already satisfied: pyyaml in /usr/local/lib/python3.8/dist-packages (6.0)\n",
            "Requirement already satisfied: numpy>=1.17.5 in /usr/local/lib/python3.8/dist-packages (from h5py) (1.21.6)\n"
          ]
        }
      ]
    },
    {
      "cell_type": "code",
      "source": [
        "!pip install seqeval -qqq\n",
        "# TODO: update this notebook to work with the latest version of transformers\n",
        "!pip install -q transformers==2.11.0"
      ],
      "metadata": {
        "id": "nOowDdspRyUc",
        "colab": {
          "base_uri": "https://localhost:8080/"
        },
        "outputId": "7c08b699-73b2-4006-9e05-a56194b1c369"
      },
      "execution_count": null,
      "outputs": [
        {
          "output_type": "stream",
          "name": "stdout",
          "text": [
            "\u001b[?25l\r\u001b[K     |███████▌                        | 10 kB 33.4 MB/s eta 0:00:01\r\u001b[K     |███████████████                 | 20 kB 23.2 MB/s eta 0:00:01\r\u001b[K     |██████████████████████▌         | 30 kB 11.2 MB/s eta 0:00:01\r\u001b[K     |██████████████████████████████  | 40 kB 4.5 MB/s eta 0:00:01\r\u001b[K     |████████████████████████████████| 43 kB 1.6 MB/s \n",
            "\u001b[?25h  Building wheel for seqeval (setup.py) ... \u001b[?25l\u001b[?25hdone\n",
            "\u001b[K     |████████████████████████████████| 674 kB 4.9 MB/s \n",
            "\u001b[K     |████████████████████████████████| 1.3 MB 60.0 MB/s \n",
            "\u001b[K     |████████████████████████████████| 880 kB 85.0 MB/s \n",
            "\u001b[K     |████████████████████████████████| 7.5 MB 80.1 MB/s \n",
            "\u001b[?25h  Building wheel for sacremoses (setup.py) ... \u001b[?25l\u001b[?25hdone\n"
          ]
        }
      ]
    },
    {
      "cell_type": "code",
      "source": [
        "import tensorflow as tf\n",
        "tf.__version__"
      ],
      "metadata": {
        "colab": {
          "base_uri": "https://localhost:8080/",
          "height": 36
        },
        "id": "jfbzohmskRzZ",
        "outputId": "b7b6bab6-ebd6-4563-ffe3-441f2db1ae5b"
      },
      "execution_count": null,
      "outputs": [
        {
          "output_type": "execute_result",
          "data": {
            "text/plain": [
              "'2.9.2'"
            ],
            "application/vnd.google.colaboratory.intrinsic+json": {
              "type": "string"
            }
          },
          "metadata": {},
          "execution_count": 6
        }
      ]
    },
    {
      "cell_type": "markdown",
      "source": [
        "#Importing Libraries"
      ],
      "metadata": {
        "id": "XUIbeqcldJiX"
      }
    },
    {
      "cell_type": "code",
      "source": [
        "import os\n",
        "from tqdm import tqdm\n",
        "import pandas as pd\n",
        "import numpy as np\n",
        "from sklearn.preprocessing import LabelEncoder\n",
        "from transformers import BertTokenizer, TFBertModel\n",
        "import warnings\n",
        "warnings.filterwarnings('ignore')\n",
        "from tensorflow.keras.layers import Dropout, Dense\n",
        "from tensorflow.keras.optimizers import Adam\n",
        "from tensorflow.keras.losses import SparseCategoricalCrossentropy\n",
        "from tensorflow.keras.metrics import SparseCategoricalAccuracy\n",
        "from tensorflow.keras.preprocessing.text import Tokenizer\n",
        "from tensorflow.keras.callbacks import EarlyStopping, ReduceLROnPlateau, LearningRateScheduler, ModelCheckpoint, TensorBoard\n",
        "from seqeval.metrics import classification_report\n",
        "from transformers import TFAutoModel\n",
        "from tensorflow.keras.layers import Dropout, Dense\n",
        "import matplotlib.pyplot as plt\n",
        "from tensorflow.keras.optimizers import Adam\n",
        "from tensorflow.keras.losses import SparseCategoricalCrossentropy\n",
        "from tensorflow.keras.metrics import SparseCategoricalAccuracy\n",
        "import shutil\n",
        "import pickle\n",
        "from seqeval.metrics import classification_report\n",
        "from sklearn.model_selection import train_test_split\n"
      ],
      "metadata": {
        "id": "jbhE0jzNRvJk"
      },
      "execution_count": null,
      "outputs": []
    },
    {
      "cell_type": "markdown",
      "source": [
        "#Loading Data"
      ],
      "metadata": {
        "id": "JcQruOIhbL__"
      }
    },
    {
      "cell_type": "code",
      "source": [
        "df = pd.read_excel(\"/content/drive/MyDrive/Practicum/Datasets for Practicum/kinya_test_final.xlsx\", skiprows=1).iloc[:,:]\n",
        "df_kin = pd.read_csv(\"/content/drive/MyDrive/JP Morgan Chase/Report Models/Kinyarwanda/MBERT/Kinyarwanda_700.csv\")"
      ],
      "metadata": {
        "id": "BvOfTo0c0Be-"
      },
      "execution_count": null,
      "outputs": []
    },
    {
      "cell_type": "code",
      "source": [
        "## Sanity Check\n",
        "df_kin.head()"
      ],
      "metadata": {
        "colab": {
          "base_uri": "https://localhost:8080/",
          "height": 389
        },
        "id": "dhCyAh7zERWc",
        "outputId": "4611de52-d34d-4bbb-f564-87e2c5feebc2"
      },
      "execution_count": null,
      "outputs": [
        {
          "output_type": "execute_result",
          "data": {
            "text/plain": [
              "  i would like to find a flight from charlotte to las vegas that makes a stop in st. louis  \\\n",
              "0  on april first i need a ticket from tacoma to ...                                         \n",
              "1  on april first i need a flight going from phoe...                                         \n",
              "2  i would like a flight traveling one way from p...                                         \n",
              "3  i would like a flight from orlando to salt lak...                                         \n",
              "4  i need a flight from toronto to newark one way...                                         \n",
              "\n",
              "  O O O O O O O O B-fromloc.city_name O B-toloc.city_name I-toloc.city_name O O O O O B-stoploc.city_name I-stoploc.city_name  \\\n",
              "0  O B-depart_date.month_name B-depart_date.day_n...                                                                            \n",
              "1  O B-depart_date.month_name B-depart_date.day_n...                                                                            \n",
              "2  O O O O O O B-round_trip I-round_trip O B-from...                                                                            \n",
              "3  O O O O O O B-fromloc.city_name O B-toloc.city...                                                                            \n",
              "4  O O O O O B-fromloc.city_name O B-toloc.city_n...                                                                            \n",
              "\n",
              "  Nkeneye indege iva Charlotte yerekeza Las Vegas ariko ikabanza guca St Louis  \\\n",
              "0  Nkeneye itike y'indege iva Tacoma yeherekeza S...                             \n",
              "1  Nkeneye itike y'indege iva Phoenix yerekeza Sa...                             \n",
              "2  Nkeneye itike y'Indege kuva Phoenix yerekeza S...                             \n",
              "3  Nkeneye itike y'indege kuva Orlando yerekeza S...                             \n",
              "4  Nkeneye itike y'indege kuva Toronto yerekeza N...                             \n",
              "\n",
              "  O O O B-kuva.umujyi_izina O B-kugera.umujyi_izina I-kugera.umujyi_izina O O O B-guhagarara.umujyi_izina I-guhagarara.umujyi_izina  \n",
              "0  O O O O B-kuva.umujyi_izina O B-kugera.umujyi_...                                                                                 \n",
              "1  O O O O B-kuva.umujyi_izina O B-kugera.umujyi_...                                                                                 \n",
              "2  O O O O B-kuva.umujyi_izina O B-kugera.umujyi_...                                                                                 \n",
              "3  O O O O B-kuva.umujyi_izina O B-kugera.umujyi_...                                                                                 \n",
              "4  O O O O B-kuva.umujyi_izina O B-kugera.umujyi_...                                                                                 "
            ],
            "text/html": [
              "\n",
              "  <div id=\"df-a7dbe808-2d86-4ad5-ba3d-5e4dfd241b03\">\n",
              "    <div class=\"colab-df-container\">\n",
              "      <div>\n",
              "<style scoped>\n",
              "    .dataframe tbody tr th:only-of-type {\n",
              "        vertical-align: middle;\n",
              "    }\n",
              "\n",
              "    .dataframe tbody tr th {\n",
              "        vertical-align: top;\n",
              "    }\n",
              "\n",
              "    .dataframe thead th {\n",
              "        text-align: right;\n",
              "    }\n",
              "</style>\n",
              "<table border=\"1\" class=\"dataframe\">\n",
              "  <thead>\n",
              "    <tr style=\"text-align: right;\">\n",
              "      <th></th>\n",
              "      <th>i would like to find a flight from charlotte to las vegas that makes a stop in st. louis</th>\n",
              "      <th>O O O O O O O O B-fromloc.city_name O B-toloc.city_name I-toloc.city_name O O O O O B-stoploc.city_name I-stoploc.city_name</th>\n",
              "      <th>Nkeneye indege iva Charlotte yerekeza Las Vegas ariko ikabanza guca St Louis</th>\n",
              "      <th>O O O B-kuva.umujyi_izina O B-kugera.umujyi_izina I-kugera.umujyi_izina O O O B-guhagarara.umujyi_izina I-guhagarara.umujyi_izina</th>\n",
              "    </tr>\n",
              "  </thead>\n",
              "  <tbody>\n",
              "    <tr>\n",
              "      <th>0</th>\n",
              "      <td>on april first i need a ticket from tacoma to ...</td>\n",
              "      <td>O B-depart_date.month_name B-depart_date.day_n...</td>\n",
              "      <td>Nkeneye itike y'indege iva Tacoma yeherekeza S...</td>\n",
              "      <td>O O O O B-kuva.umujyi_izina O B-kugera.umujyi_...</td>\n",
              "    </tr>\n",
              "    <tr>\n",
              "      <th>1</th>\n",
              "      <td>on april first i need a flight going from phoe...</td>\n",
              "      <td>O B-depart_date.month_name B-depart_date.day_n...</td>\n",
              "      <td>Nkeneye itike y'indege iva Phoenix yerekeza Sa...</td>\n",
              "      <td>O O O O B-kuva.umujyi_izina O B-kugera.umujyi_...</td>\n",
              "    </tr>\n",
              "    <tr>\n",
              "      <th>2</th>\n",
              "      <td>i would like a flight traveling one way from p...</td>\n",
              "      <td>O O O O O O B-round_trip I-round_trip O B-from...</td>\n",
              "      <td>Nkeneye itike y'Indege kuva Phoenix yerekeza S...</td>\n",
              "      <td>O O O O B-kuva.umujyi_izina O B-kugera.umujyi_...</td>\n",
              "    </tr>\n",
              "    <tr>\n",
              "      <th>3</th>\n",
              "      <td>i would like a flight from orlando to salt lak...</td>\n",
              "      <td>O O O O O O B-fromloc.city_name O B-toloc.city...</td>\n",
              "      <td>Nkeneye itike y'indege kuva Orlando yerekeza S...</td>\n",
              "      <td>O O O O B-kuva.umujyi_izina O B-kugera.umujyi_...</td>\n",
              "    </tr>\n",
              "    <tr>\n",
              "      <th>4</th>\n",
              "      <td>i need a flight from toronto to newark one way...</td>\n",
              "      <td>O O O O O B-fromloc.city_name O B-toloc.city_n...</td>\n",
              "      <td>Nkeneye itike y'indege kuva Toronto yerekeza N...</td>\n",
              "      <td>O O O O B-kuva.umujyi_izina O B-kugera.umujyi_...</td>\n",
              "    </tr>\n",
              "  </tbody>\n",
              "</table>\n",
              "</div>\n",
              "      <button class=\"colab-df-convert\" onclick=\"convertToInteractive('df-a7dbe808-2d86-4ad5-ba3d-5e4dfd241b03')\"\n",
              "              title=\"Convert this dataframe to an interactive table.\"\n",
              "              style=\"display:none;\">\n",
              "        \n",
              "  <svg xmlns=\"http://www.w3.org/2000/svg\" height=\"24px\"viewBox=\"0 0 24 24\"\n",
              "       width=\"24px\">\n",
              "    <path d=\"M0 0h24v24H0V0z\" fill=\"none\"/>\n",
              "    <path d=\"M18.56 5.44l.94 2.06.94-2.06 2.06-.94-2.06-.94-.94-2.06-.94 2.06-2.06.94zm-11 1L8.5 8.5l.94-2.06 2.06-.94-2.06-.94L8.5 2.5l-.94 2.06-2.06.94zm10 10l.94 2.06.94-2.06 2.06-.94-2.06-.94-.94-2.06-.94 2.06-2.06.94z\"/><path d=\"M17.41 7.96l-1.37-1.37c-.4-.4-.92-.59-1.43-.59-.52 0-1.04.2-1.43.59L10.3 9.45l-7.72 7.72c-.78.78-.78 2.05 0 2.83L4 21.41c.39.39.9.59 1.41.59.51 0 1.02-.2 1.41-.59l7.78-7.78 2.81-2.81c.8-.78.8-2.07 0-2.86zM5.41 20L4 18.59l7.72-7.72 1.47 1.35L5.41 20z\"/>\n",
              "  </svg>\n",
              "      </button>\n",
              "      \n",
              "  <style>\n",
              "    .colab-df-container {\n",
              "      display:flex;\n",
              "      flex-wrap:wrap;\n",
              "      gap: 12px;\n",
              "    }\n",
              "\n",
              "    .colab-df-convert {\n",
              "      background-color: #E8F0FE;\n",
              "      border: none;\n",
              "      border-radius: 50%;\n",
              "      cursor: pointer;\n",
              "      display: none;\n",
              "      fill: #1967D2;\n",
              "      height: 32px;\n",
              "      padding: 0 0 0 0;\n",
              "      width: 32px;\n",
              "    }\n",
              "\n",
              "    .colab-df-convert:hover {\n",
              "      background-color: #E2EBFA;\n",
              "      box-shadow: 0px 1px 2px rgba(60, 64, 67, 0.3), 0px 1px 3px 1px rgba(60, 64, 67, 0.15);\n",
              "      fill: #174EA6;\n",
              "    }\n",
              "\n",
              "    [theme=dark] .colab-df-convert {\n",
              "      background-color: #3B4455;\n",
              "      fill: #D2E3FC;\n",
              "    }\n",
              "\n",
              "    [theme=dark] .colab-df-convert:hover {\n",
              "      background-color: #434B5C;\n",
              "      box-shadow: 0px 1px 3px 1px rgba(0, 0, 0, 0.15);\n",
              "      filter: drop-shadow(0px 1px 2px rgba(0, 0, 0, 0.3));\n",
              "      fill: #FFFFFF;\n",
              "    }\n",
              "  </style>\n",
              "\n",
              "      <script>\n",
              "        const buttonEl =\n",
              "          document.querySelector('#df-a7dbe808-2d86-4ad5-ba3d-5e4dfd241b03 button.colab-df-convert');\n",
              "        buttonEl.style.display =\n",
              "          google.colab.kernel.accessAllowed ? 'block' : 'none';\n",
              "\n",
              "        async function convertToInteractive(key) {\n",
              "          const element = document.querySelector('#df-a7dbe808-2d86-4ad5-ba3d-5e4dfd241b03');\n",
              "          const dataTable =\n",
              "            await google.colab.kernel.invokeFunction('convertToInteractive',\n",
              "                                                     [key], {});\n",
              "          if (!dataTable) return;\n",
              "\n",
              "          const docLinkHtml = 'Like what you see? Visit the ' +\n",
              "            '<a target=\"_blank\" href=https://colab.research.google.com/notebooks/data_table.ipynb>data table notebook</a>'\n",
              "            + ' to learn more about interactive tables.';\n",
              "          element.innerHTML = '';\n",
              "          dataTable['output_type'] = 'display_data';\n",
              "          await google.colab.output.renderOutput(dataTable, element);\n",
              "          const docLink = document.createElement('div');\n",
              "          docLink.innerHTML = docLinkHtml;\n",
              "          element.appendChild(docLink);\n",
              "        }\n",
              "      </script>\n",
              "    </div>\n",
              "  </div>\n",
              "  "
            ]
          },
          "metadata": {},
          "execution_count": 9
        }
      ]
    },
    {
      "cell_type": "code",
      "source": [
        "df.columns"
      ],
      "metadata": {
        "colab": {
          "base_uri": "https://localhost:8080/"
        },
        "id": "SDThnhiEVpe-",
        "outputId": "6b21f274-12cd-4232-9e13-4e91fc750935"
      },
      "execution_count": null,
      "outputs": [
        {
          "output_type": "execute_result",
          "data": {
            "text/plain": [
              "Index(['utterance', 'slot_labels', 'intent', 'utterance_Kinyarwanda',\n",
              "       'slot_labels_Kinyarwanda', 'intent_Kinyarwanda',\n",
              "       'utterance_kinyarwanda', 'slot_labels(Ignore)', 'intent_Kinyarwanda.1'],\n",
              "      dtype='object')"
            ]
          },
          "metadata": {},
          "execution_count": 10
        }
      ]
    },
    {
      "cell_type": "code",
      "source": [
        "df_kin.columns = 'utterance slot_labels utterance_kin slot_labels_kin'.split(' ')"
      ],
      "metadata": {
        "id": "8HLj_JtWvhNZ"
      },
      "execution_count": null,
      "outputs": []
    },
    {
      "cell_type": "code",
      "source": [
        "df_kin = df_kin.iloc[:700,:]"
      ],
      "metadata": {
        "id": "Zz3PrCnLG54U"
      },
      "execution_count": null,
      "outputs": []
    },
    {
      "cell_type": "code",
      "source": [
        "df_kin['slot_kin'] = df['intent_Kinyarwanda']"
      ],
      "metadata": {
        "id": "RrzRwoQXeEAd"
      },
      "execution_count": null,
      "outputs": []
    },
    {
      "cell_type": "code",
      "source": [
        "df_kin.iloc[:,:]"
      ],
      "metadata": {
        "colab": {
          "base_uri": "https://localhost:8080/",
          "height": 641
        },
        "id": "na8laNpNXo6p",
        "outputId": "a96579f3-f274-4a7f-9083-57ef13d1c0cc"
      },
      "execution_count": null,
      "outputs": [
        {
          "output_type": "execute_result",
          "data": {
            "text/plain": [
              "                                             utterance  \\\n",
              "0    on april first i need a ticket from tacoma to ...   \n",
              "1    on april first i need a flight going from phoe...   \n",
              "2    i would like a flight traveling one way from p...   \n",
              "3    i would like a flight from orlando to salt lak...   \n",
              "4    i need a flight from toronto to newark one way...   \n",
              "..                                                 ...   \n",
              "695  how much is coach flight from pittsburgh to at...   \n",
              "696                          newark to tampa on friday   \n",
              "697                  tampa to charlotte sunday morning   \n",
              "698                  charlotte to baltimore on tuesday   \n",
              "699              baltimore to newark wednesday morning   \n",
              "\n",
              "                                           slot_labels  \\\n",
              "0    O B-depart_date.month_name B-depart_date.day_n...   \n",
              "1    O B-depart_date.month_name B-depart_date.day_n...   \n",
              "2    O O O O O O B-round_trip I-round_trip O B-from...   \n",
              "3    O O O O O O B-fromloc.city_name O B-toloc.city...   \n",
              "4    O O O O O B-fromloc.city_name O B-toloc.city_n...   \n",
              "..                                                 ...   \n",
              "695  O O O B-class_type O O B-fromloc.city_name O B...   \n",
              "696  B-fromloc.city_name O B-toloc.city_name O B-de...   \n",
              "697  B-fromloc.city_name O B-toloc.city_name B-depa...   \n",
              "698  B-fromloc.city_name O B-toloc.city_name O B-de...   \n",
              "699  B-fromloc.city_name O B-toloc.city_name B-depa...   \n",
              "\n",
              "                                         utterance_kin  \\\n",
              "0    Nkeneye itike y'indege iva Tacoma yeherekeza S...   \n",
              "1    Nkeneye itike y'indege iva Phoenix yerekeza Sa...   \n",
              "2    Nkeneye itike y'Indege kuva Phoenix yerekeza S...   \n",
              "3    Nkeneye itike y'indege kuva Orlando yerekeza S...   \n",
              "4    Nkeneye itike y'indege kuva Toronto yerekeza N...   \n",
              "..                                                 ...   \n",
              "695  ni angahe ingendo y'indege y'umwanya usanzwe k...   \n",
              "696                   Newark kugera Tampa ku wa gatanu   \n",
              "697      Tampa kugera Charlotte ku cyumweru mu gitondo   \n",
              "698            Charlotte kugera Baltimore ku wa kabiri   \n",
              "699     Baltimore kugera Newark ku wa gatatu mugitondo   \n",
              "\n",
              "                                       slot_labels_kin  slot_kin  \n",
              "0    O O O O B-kuva.umujyi_izina O B-kugera.umujyi_...  kuguruka  \n",
              "1    O O O O B-kuva.umujyi_izina O B-kugera.umujyi_...    indege  \n",
              "2    O O O O B-kuva.umujyi_izina O B-kugera.umujyi_...  kuguruka  \n",
              "3    O O O O B-kuva.umujyi_izina O B-kugera.umujyi_...  kuguruka  \n",
              "4    O O O O B-kuva.umujyi_izina O B-kugera.umujyi_...  kuguruka  \n",
              "..                                                 ...       ...  \n",
              "695  O O O O B-ikiciro_ubwoko I-ikiciro_ubwoko O B-...    indege  \n",
              "696  B-kuva.umujyi_izina O B-kugera.umujyi_izina B-...    indege  \n",
              "697  B-kuva.umujyi_izina O B-kugera.umujyi_izina B-...  kuguruka  \n",
              "698  B-kuva.umujyi_izina O B-kugera.umujyi_izina B-...  kuguruka  \n",
              "699  B-kuva.umujyi_izina O B-kugera.umujyi_izina B-...  kuguruka  \n",
              "\n",
              "[700 rows x 5 columns]"
            ],
            "text/html": [
              "\n",
              "  <div id=\"df-9aae3ba3-95ef-43db-a731-4de800a4d672\">\n",
              "    <div class=\"colab-df-container\">\n",
              "      <div>\n",
              "<style scoped>\n",
              "    .dataframe tbody tr th:only-of-type {\n",
              "        vertical-align: middle;\n",
              "    }\n",
              "\n",
              "    .dataframe tbody tr th {\n",
              "        vertical-align: top;\n",
              "    }\n",
              "\n",
              "    .dataframe thead th {\n",
              "        text-align: right;\n",
              "    }\n",
              "</style>\n",
              "<table border=\"1\" class=\"dataframe\">\n",
              "  <thead>\n",
              "    <tr style=\"text-align: right;\">\n",
              "      <th></th>\n",
              "      <th>utterance</th>\n",
              "      <th>slot_labels</th>\n",
              "      <th>utterance_kin</th>\n",
              "      <th>slot_labels_kin</th>\n",
              "      <th>slot_kin</th>\n",
              "    </tr>\n",
              "  </thead>\n",
              "  <tbody>\n",
              "    <tr>\n",
              "      <th>0</th>\n",
              "      <td>on april first i need a ticket from tacoma to ...</td>\n",
              "      <td>O B-depart_date.month_name B-depart_date.day_n...</td>\n",
              "      <td>Nkeneye itike y'indege iva Tacoma yeherekeza S...</td>\n",
              "      <td>O O O O B-kuva.umujyi_izina O B-kugera.umujyi_...</td>\n",
              "      <td>kuguruka</td>\n",
              "    </tr>\n",
              "    <tr>\n",
              "      <th>1</th>\n",
              "      <td>on april first i need a flight going from phoe...</td>\n",
              "      <td>O B-depart_date.month_name B-depart_date.day_n...</td>\n",
              "      <td>Nkeneye itike y'indege iva Phoenix yerekeza Sa...</td>\n",
              "      <td>O O O O B-kuva.umujyi_izina O B-kugera.umujyi_...</td>\n",
              "      <td>indege</td>\n",
              "    </tr>\n",
              "    <tr>\n",
              "      <th>2</th>\n",
              "      <td>i would like a flight traveling one way from p...</td>\n",
              "      <td>O O O O O O B-round_trip I-round_trip O B-from...</td>\n",
              "      <td>Nkeneye itike y'Indege kuva Phoenix yerekeza S...</td>\n",
              "      <td>O O O O B-kuva.umujyi_izina O B-kugera.umujyi_...</td>\n",
              "      <td>kuguruka</td>\n",
              "    </tr>\n",
              "    <tr>\n",
              "      <th>3</th>\n",
              "      <td>i would like a flight from orlando to salt lak...</td>\n",
              "      <td>O O O O O O B-fromloc.city_name O B-toloc.city...</td>\n",
              "      <td>Nkeneye itike y'indege kuva Orlando yerekeza S...</td>\n",
              "      <td>O O O O B-kuva.umujyi_izina O B-kugera.umujyi_...</td>\n",
              "      <td>kuguruka</td>\n",
              "    </tr>\n",
              "    <tr>\n",
              "      <th>4</th>\n",
              "      <td>i need a flight from toronto to newark one way...</td>\n",
              "      <td>O O O O O B-fromloc.city_name O B-toloc.city_n...</td>\n",
              "      <td>Nkeneye itike y'indege kuva Toronto yerekeza N...</td>\n",
              "      <td>O O O O B-kuva.umujyi_izina O B-kugera.umujyi_...</td>\n",
              "      <td>kuguruka</td>\n",
              "    </tr>\n",
              "    <tr>\n",
              "      <th>...</th>\n",
              "      <td>...</td>\n",
              "      <td>...</td>\n",
              "      <td>...</td>\n",
              "      <td>...</td>\n",
              "      <td>...</td>\n",
              "    </tr>\n",
              "    <tr>\n",
              "      <th>695</th>\n",
              "      <td>how much is coach flight from pittsburgh to at...</td>\n",
              "      <td>O O O B-class_type O O B-fromloc.city_name O B...</td>\n",
              "      <td>ni angahe ingendo y'indege y'umwanya usanzwe k...</td>\n",
              "      <td>O O O O B-ikiciro_ubwoko I-ikiciro_ubwoko O B-...</td>\n",
              "      <td>indege</td>\n",
              "    </tr>\n",
              "    <tr>\n",
              "      <th>696</th>\n",
              "      <td>newark to tampa on friday</td>\n",
              "      <td>B-fromloc.city_name O B-toloc.city_name O B-de...</td>\n",
              "      <td>Newark kugera Tampa ku wa gatanu</td>\n",
              "      <td>B-kuva.umujyi_izina O B-kugera.umujyi_izina B-...</td>\n",
              "      <td>indege</td>\n",
              "    </tr>\n",
              "    <tr>\n",
              "      <th>697</th>\n",
              "      <td>tampa to charlotte sunday morning</td>\n",
              "      <td>B-fromloc.city_name O B-toloc.city_name B-depa...</td>\n",
              "      <td>Tampa kugera Charlotte ku cyumweru mu gitondo</td>\n",
              "      <td>B-kuva.umujyi_izina O B-kugera.umujyi_izina B-...</td>\n",
              "      <td>kuguruka</td>\n",
              "    </tr>\n",
              "    <tr>\n",
              "      <th>698</th>\n",
              "      <td>charlotte to baltimore on tuesday</td>\n",
              "      <td>B-fromloc.city_name O B-toloc.city_name O B-de...</td>\n",
              "      <td>Charlotte kugera Baltimore ku wa kabiri</td>\n",
              "      <td>B-kuva.umujyi_izina O B-kugera.umujyi_izina B-...</td>\n",
              "      <td>kuguruka</td>\n",
              "    </tr>\n",
              "    <tr>\n",
              "      <th>699</th>\n",
              "      <td>baltimore to newark wednesday morning</td>\n",
              "      <td>B-fromloc.city_name O B-toloc.city_name B-depa...</td>\n",
              "      <td>Baltimore kugera Newark ku wa gatatu mugitondo</td>\n",
              "      <td>B-kuva.umujyi_izina O B-kugera.umujyi_izina B-...</td>\n",
              "      <td>kuguruka</td>\n",
              "    </tr>\n",
              "  </tbody>\n",
              "</table>\n",
              "<p>700 rows × 5 columns</p>\n",
              "</div>\n",
              "      <button class=\"colab-df-convert\" onclick=\"convertToInteractive('df-9aae3ba3-95ef-43db-a731-4de800a4d672')\"\n",
              "              title=\"Convert this dataframe to an interactive table.\"\n",
              "              style=\"display:none;\">\n",
              "        \n",
              "  <svg xmlns=\"http://www.w3.org/2000/svg\" height=\"24px\"viewBox=\"0 0 24 24\"\n",
              "       width=\"24px\">\n",
              "    <path d=\"M0 0h24v24H0V0z\" fill=\"none\"/>\n",
              "    <path d=\"M18.56 5.44l.94 2.06.94-2.06 2.06-.94-2.06-.94-.94-2.06-.94 2.06-2.06.94zm-11 1L8.5 8.5l.94-2.06 2.06-.94-2.06-.94L8.5 2.5l-.94 2.06-2.06.94zm10 10l.94 2.06.94-2.06 2.06-.94-2.06-.94-.94-2.06-.94 2.06-2.06.94z\"/><path d=\"M17.41 7.96l-1.37-1.37c-.4-.4-.92-.59-1.43-.59-.52 0-1.04.2-1.43.59L10.3 9.45l-7.72 7.72c-.78.78-.78 2.05 0 2.83L4 21.41c.39.39.9.59 1.41.59.51 0 1.02-.2 1.41-.59l7.78-7.78 2.81-2.81c.8-.78.8-2.07 0-2.86zM5.41 20L4 18.59l7.72-7.72 1.47 1.35L5.41 20z\"/>\n",
              "  </svg>\n",
              "      </button>\n",
              "      \n",
              "  <style>\n",
              "    .colab-df-container {\n",
              "      display:flex;\n",
              "      flex-wrap:wrap;\n",
              "      gap: 12px;\n",
              "    }\n",
              "\n",
              "    .colab-df-convert {\n",
              "      background-color: #E8F0FE;\n",
              "      border: none;\n",
              "      border-radius: 50%;\n",
              "      cursor: pointer;\n",
              "      display: none;\n",
              "      fill: #1967D2;\n",
              "      height: 32px;\n",
              "      padding: 0 0 0 0;\n",
              "      width: 32px;\n",
              "    }\n",
              "\n",
              "    .colab-df-convert:hover {\n",
              "      background-color: #E2EBFA;\n",
              "      box-shadow: 0px 1px 2px rgba(60, 64, 67, 0.3), 0px 1px 3px 1px rgba(60, 64, 67, 0.15);\n",
              "      fill: #174EA6;\n",
              "    }\n",
              "\n",
              "    [theme=dark] .colab-df-convert {\n",
              "      background-color: #3B4455;\n",
              "      fill: #D2E3FC;\n",
              "    }\n",
              "\n",
              "    [theme=dark] .colab-df-convert:hover {\n",
              "      background-color: #434B5C;\n",
              "      box-shadow: 0px 1px 3px 1px rgba(0, 0, 0, 0.15);\n",
              "      filter: drop-shadow(0px 1px 2px rgba(0, 0, 0, 0.3));\n",
              "      fill: #FFFFFF;\n",
              "    }\n",
              "  </style>\n",
              "\n",
              "      <script>\n",
              "        const buttonEl =\n",
              "          document.querySelector('#df-9aae3ba3-95ef-43db-a731-4de800a4d672 button.colab-df-convert');\n",
              "        buttonEl.style.display =\n",
              "          google.colab.kernel.accessAllowed ? 'block' : 'none';\n",
              "\n",
              "        async function convertToInteractive(key) {\n",
              "          const element = document.querySelector('#df-9aae3ba3-95ef-43db-a731-4de800a4d672');\n",
              "          const dataTable =\n",
              "            await google.colab.kernel.invokeFunction('convertToInteractive',\n",
              "                                                     [key], {});\n",
              "          if (!dataTable) return;\n",
              "\n",
              "          const docLinkHtml = 'Like what you see? Visit the ' +\n",
              "            '<a target=\"_blank\" href=https://colab.research.google.com/notebooks/data_table.ipynb>data table notebook</a>'\n",
              "            + ' to learn more about interactive tables.';\n",
              "          element.innerHTML = '';\n",
              "          dataTable['output_type'] = 'display_data';\n",
              "          await google.colab.output.renderOutput(dataTable, element);\n",
              "          const docLink = document.createElement('div');\n",
              "          docLink.innerHTML = docLinkHtml;\n",
              "          element.appendChild(docLink);\n",
              "        }\n",
              "      </script>\n",
              "    </div>\n",
              "  </div>\n",
              "  "
            ]
          },
          "metadata": {},
          "execution_count": 21
        }
      ]
    },
    {
      "cell_type": "code",
      "source": [
        "df.rename(columns = {'utterance_kin':'words','slot_labels_kin':'word_labels','slot_kin':'intent_label'}, inplace = True)"
      ],
      "metadata": {
        "id": "LXs28pq5jXdw"
      },
      "execution_count": null,
      "outputs": []
    },
    {
      "cell_type": "code",
      "source": [
        "### Data Preparation\n",
        "## Lowering data in the dataframe\n",
        "df['words'] = df['words'].str.lower()"
      ],
      "metadata": {
        "id": "xFuhSVOwj2Ys"
      },
      "execution_count": null,
      "outputs": []
    },
    {
      "cell_type": "code",
      "source": [
        "df_train, df_valid = train_test_split(df, test_size=0.2)"
      ],
      "metadata": {
        "id": "QH1bhCNBcaE6"
      },
      "execution_count": null,
      "outputs": []
    },
    {
      "cell_type": "markdown",
      "metadata": {
        "id": "8-RqFpLgqI6u"
      },
      "source": [
        "### The mBERT Tokenizer\n"
      ]
    },
    {
      "cell_type": "code",
      "metadata": {
        "id": "8waNlSO-tkkP",
        "colab": {
          "base_uri": "https://localhost:8080/",
          "height": 49,
          "referenced_widgets": [
            "2761d16c364444238d1a861d78949d50",
            "d3779d11375244eb8ea07319053f7cef",
            "9af53ff68a11486d81ffd32190d9702a",
            "b0b0a626c9d74d39a1f3f51f5f3148f4",
            "697fafaf7fba4198b3a05cc1412f9555",
            "65084bb7a6fd4355a5abef3a4a4954bc",
            "07397157c2954f98b65ad6bf6f7dc419",
            "6033ff029b154802a04cf50d7784da20",
            "a13b2a74f8b6437dac88b700250539a4",
            "b47aa9cbf2a2405987db4c79acdebf73",
            "c67c76d3138542008391642f8137690e"
          ]
        },
        "outputId": "f309a1fa-bac4-4214-e6db-c2bb4ff6839a"
      },
      "source": [
        "from transformers import BertTokenizer\n",
        "model_name = \"bert-base-multilingual-cased\"\n",
        "# model_name = \"bert-base-uncased\"\n",
        "tokenizer = BertTokenizer.from_pretrained(model_name)"
      ],
      "execution_count": null,
      "outputs": [
        {
          "output_type": "display_data",
          "data": {
            "text/plain": [
              "Downloading:   0%|          | 0.00/232k [00:00<?, ?B/s]"
            ],
            "application/vnd.jupyter.widget-view+json": {
              "version_major": 2,
              "version_minor": 0,
              "model_id": "2761d16c364444238d1a861d78949d50"
            }
          },
          "metadata": {}
        }
      ]
    },
    {
      "cell_type": "markdown",
      "source": [
        "#Testing word tokenization using mBert"
      ],
      "metadata": {
        "id": "E2kDm0-tbeXb"
      }
    },
    {
      "cell_type": "code",
      "metadata": {
        "id": "kfIeG0rvuywQ",
        "colab": {
          "base_uri": "https://localhost:8080/",
          "height": 36
        },
        "outputId": "1669a5ad-d047-4ecb-822d-6207038e50eb"
      },
      "source": [
        "first_sentence = df.iloc[0][\"words\"]\n",
        "first_sentence"
      ],
      "execution_count": null,
      "outputs": [
        {
          "output_type": "execute_result",
          "data": {
            "text/plain": [
              "\"nkeneye itike y'indege iva tacoma yeherekeza san jose ku ya mbere mata mbere ya saa moya za mugitondo\""
            ],
            "application/vnd.google.colaboratory.intrinsic+json": {
              "type": "string"
            }
          },
          "metadata": {},
          "execution_count": 31
        }
      ]
    },
    {
      "cell_type": "code",
      "metadata": {
        "id": "T1NdNH7btohS",
        "colab": {
          "base_uri": "https://localhost:8080/"
        },
        "outputId": "23613878-e7a7-4902-b61c-41f8933ed249"
      },
      "source": [
        "encoding = tokenizer.encode(first_sentence)\n",
        "print(tokenizer.convert_ids_to_tokens(encoding))"
      ],
      "execution_count": null,
      "outputs": [
        {
          "output_type": "stream",
          "name": "stdout",
          "text": [
            "['[CLS]', 'nk', '##ene', '##ye', 'it', '##ike', 'y', \"'\", 'ind', '##ege', 'iv', '##a', 'tacoma', 'ye', '##her', '##eke', '##za', 'san', 'jose', 'ku', 'ya', 'mbe', '##re', 'mata', 'mbe', '##re', 'ya', 'sa', '##a', 'mo', '##ya', 'za', 'mug', '##ito', '##ndo', '[SEP]']\n"
          ]
        }
      ]
    },
    {
      "cell_type": "markdown",
      "metadata": {
        "id": "mV0nkrwDvVlc"
      },
      "source": [
        "It can be noticed that mBERT uses subword tokens so the length of the tokenized sentence is likely to be larger than the number of words in the sentence.\n"
      ]
    },
    {
      "cell_type": "markdown",
      "metadata": {
        "id": "DXvGt8fAmW6o"
      },
      "source": [
        "Remarks:\n",
        "\n",
        "- The first token `[CLS]` is used by the pre-training task for sequence classification.\n",
        "- The last token `[SEP]` is a separator for the pre-training task that classifiies if a pair of sentences are consecutive in a corpus or not (next sentence prediction)."
      ]
    },
    {
      "cell_type": "markdown",
      "source": [
        "#Data Preprocessing"
      ],
      "metadata": {
        "id": "wqgWOetUcemB"
      }
    },
    {
      "cell_type": "markdown",
      "source": [
        "Checking the length of sequences after tokenization, so that we could assign them to equal dummy vectors in the training set"
      ],
      "metadata": {
        "id": "EveW9CTmcjLT"
      }
    },
    {
      "cell_type": "code",
      "metadata": {
        "id": "HDRfHq45uXtE",
        "colab": {
          "base_uri": "https://localhost:8080/",
          "height": 298
        },
        "outputId": "a920e7db-90f5-4f7a-95b2-ecb7711f6a82"
      },
      "source": [
        "train_sequence_lengths = [len(tokenizer.encode(text))\n",
        "                          for text in df[\"words\"]]\n",
        "plt.hist(train_sequence_lengths, bins=30)\n",
        "plt.title(f\"max sequence length: {max(train_sequence_lengths)}\")"
      ],
      "execution_count": null,
      "outputs": [
        {
          "output_type": "execute_result",
          "data": {
            "text/plain": [
              "Text(0.5, 1.0, 'max sequence length: 78')"
            ]
          },
          "metadata": {},
          "execution_count": 33
        },
        {
          "output_type": "display_data",
          "data": {
            "text/plain": [
              "<Figure size 432x288 with 1 Axes>"
            ],
            "image/png": "[encoded data removed]"
          },
          "metadata": {
            "needs_background": "light"
          }
        }
      ]
    },
    {
      "cell_type": "code",
      "source": [
        "max_ = max(train_sequence_lengths)"
      ],
      "metadata": {
        "id": "mg7kbsdHIad_"
      },
      "execution_count": null,
      "outputs": []
    },
    {
      "cell_type": "markdown",
      "metadata": {
        "id": "e80rCfLZo0ms"
      },
      "source": [
        "[link text](https://)The mapping can be introspected in the `tokenizer.vocab` attribute:"
      ]
    },
    {
      "cell_type": "markdown",
      "metadata": {
        "id": "q399LhkCjCa8"
      },
      "source": [
        "### Encoding the Dataset with the Tokenizer\n",
        "\n",
        "Encoding the full train / valid and test sets with Bert tokenizer to get a padded integer numpy arrays:"
      ]
    },
    {
      "cell_type": "code",
      "metadata": {
        "id": "KI7fXQKmpQFY",
        "colab": {
          "base_uri": "https://localhost:8080/"
        },
        "outputId": "82b60653-2c9e-4fea-d425-020bd1c2b1e6"
      },
      "source": [
        "import numpy as np\n",
        "\n",
        "def encode_dataset(tokenizer, text_sequences, max_length):\n",
        "    token_ids = np.zeros(shape=(len(text_sequences), max_length),\n",
        "                         dtype=np.int32)\n",
        "    for i, text_sequence in enumerate(text_sequences):\n",
        "        encoded = tokenizer.encode(text_sequence)\n",
        "        token_ids[i, 0:len(encoded)] = encoded\n",
        "    attention_masks = (token_ids != 0).astype(np.int32)\n",
        "    return {\"input_ids\": token_ids, \"attention_masks\": attention_masks}\n",
        "\n",
        "encoded_train = encode_dataset(tokenizer, df_train[\"words\"], max_)\n",
        "encoded_train[\"input_ids\"]"
      ],
      "execution_count": null,
      "outputs": [
        {
          "output_type": "execute_result",
          "data": {
            "text/plain": [
              "array([[  101, 25930,  8625, ...,     0,     0,     0],\n",
              "       [  101, 25930,  8625, ...,     0,     0,     0],\n",
              "       [  101, 25930,  8625, ...,     0,     0,     0],\n",
              "       ...,\n",
              "       [  101,  9925, 13970, ...,     0,     0,     0],\n",
              "       [  101,  5904, 13970, ...,     0,     0,     0],\n",
              "       [  101,  6222, 13970, ...,     0,     0,     0]], dtype=int32)"
            ]
          },
          "metadata": {},
          "execution_count": 35
        }
      ]
    },
    {
      "cell_type": "code",
      "metadata": {
        "id": "MPZjHqv3rdY-",
        "colab": {
          "base_uri": "https://localhost:8080/"
        },
        "outputId": "0ae3e882-c0a3-4279-cfdb-dc586f43a1c3"
      },
      "source": [
        "encoded_train[\"attention_masks\"]"
      ],
      "execution_count": null,
      "outputs": [
        {
          "output_type": "execute_result",
          "data": {
            "text/plain": [
              "array([[1, 1, 1, ..., 0, 0, 0],\n",
              "       [1, 1, 1, ..., 0, 0, 0],\n",
              "       [1, 1, 1, ..., 0, 0, 0],\n",
              "       ...,\n",
              "       [1, 1, 1, ..., 0, 0, 0],\n",
              "       [1, 1, 1, ..., 0, 0, 0],\n",
              "       [1, 1, 1, ..., 0, 0, 0]], dtype=int32)"
            ]
          },
          "metadata": {},
          "execution_count": 36
        }
      ]
    },
    {
      "cell_type": "code",
      "metadata": {
        "id": "YLiTJg4Sqwuk"
      },
      "source": [
        "encoded_valid = encode_dataset(tokenizer, df_valid[\"words\"], max_)\n",
        "encoded_test = encode_dataset(tokenizer, df_test[\"words\"], max_)"
      ],
      "execution_count": null,
      "outputs": []
    },
    {
      "cell_type": "markdown",
      "metadata": {
        "id": "xIgGo8ECtvfy"
      },
      "source": [
        "### Encoding the Sequence Classification Targets\n",
        "\n",
        "To do so we build a simple mapping from the auxiliary files:"
      ]
    },
    {
      "cell_type": "code",
      "source": [
        "seq_out_tokenizer = Tokenizer(filters='!\"#$%&()*+,/:;<=>?@[\\\\]^`{|}~\\t\\n', oov_token=\"UNK\",lower=False)"
      ],
      "metadata": {
        "id": "cBHehraHRilo"
      },
      "execution_count": null,
      "outputs": []
    },
    {
      "cell_type": "code",
      "source": [
        "##Preprocessing\n",
        "df_train.fillna('O',inplace = True)\n",
        "df_valid.fillna('O',inplace = True)"
      ],
      "metadata": {
        "id": "3q3p80CziFlm"
      },
      "execution_count": null,
      "outputs": []
    },
    {
      "cell_type": "code",
      "source": [
        "seq_out_tokenizer.fit_on_texts(df_train[\"word_labels\"].tolist())"
      ],
      "metadata": {
        "id": "m6z1Q9O5aBpQ"
      },
      "execution_count": null,
      "outputs": []
    },
    {
      "cell_type": "code",
      "source": [
        "seq_out_tokenizer.fit_on_texts(df_valid[\"word_labels\"].tolist())"
      ],
      "metadata": {
        "id": "NZEXJYjaaC4U"
      },
      "execution_count": null,
      "outputs": []
    },
    {
      "cell_type": "code",
      "source": [
        "seq_out_word_to_index = seq_out_tokenizer.word_index\n",
        "len(seq_out_word_to_index)"
      ],
      "metadata": {
        "id": "HMaj59KkSs-k",
        "colab": {
          "base_uri": "https://localhost:8080/"
        },
        "outputId": "cfd64624-4a6a-4e96-dd48-81cd89dd9f8a"
      },
      "execution_count": null,
      "outputs": [
        {
          "output_type": "execute_result",
          "data": {
            "text/plain": [
              "105"
            ]
          },
          "metadata": {},
          "execution_count": 42
        }
      ]
    },
    {
      "cell_type": "code",
      "source": [
        "seq_out_word_to_index"
      ],
      "metadata": {
        "id": "07ERpux0Sz1H",
        "colab": {
          "base_uri": "https://localhost:8080/"
        },
        "outputId": "2885e4bc-3973-4d43-cb22-3acc91b10fb3"
      },
      "execution_count": null,
      "outputs": [
        {
          "output_type": "execute_result",
          "data": {
            "text/plain": [
              "{'UNK': 1,\n",
              " 'O': 2,\n",
              " 'B-kuva.umujyi_izina': 3,\n",
              " 'B-kugera.umujyi_izina': 4,\n",
              " 'I-kugenda_itariki.umunsi_izina': 5,\n",
              " 'I-kugera.umujyi_izina': 6,\n",
              " 'B-kugenda_itariki.umunsi_izina': 7,\n",
              " 'I-kugenda_amasaha.amasaha_bijyanye': 8,\n",
              " 'I-kuva.umujyi_izina': 9,\n",
              " 'B-kugenda_amasaha.igihe_umunsi': 10,\n",
              " 'B-kugenda_amasaha.amasaha_bijyanye': 11,\n",
              " 'I-kugenda_kugaruka': 12,\n",
              " 'B-indege_izina': 13,\n",
              " 'I-kuhagera_amasaha.amasaha': 14,\n",
              " 'I-kugenda_amasaha.igihe_umunsi': 15,\n",
              " 'B-kugenda_kugaruka': 16,\n",
              " 'I-indege_izina': 17,\n",
              " 'B-kugenda_itariki.ukwezi_izina': 18,\n",
              " 'B-kugenda_itariki.umunsi_umubare': 19,\n",
              " 'B-umujyi_izina': 20,\n",
              " 'I-ikibuga_izina': 21,\n",
              " 'B-igiciro_guhuza': 22,\n",
              " 'B-kode_sosiyete_indege': 23,\n",
              " 'B-kuhagera_amasaha.amasaha': 24,\n",
              " 'B-ifunguro': 25,\n",
              " 'I-kuva.ikibuga_izina': 26,\n",
              " 'B-kuguruka_guhagarara': 27,\n",
              " 'B-kugera.leta_izina': 28,\n",
              " 'B-kuhagera_amasaha.amasaha_bijyanye': 29,\n",
              " 'B-kuguruka_mod': 30,\n",
              " 'B-ikiciro_ubwoko': 31,\n",
              " 'I-ikiciro_ubwoko': 32,\n",
              " 'B-igiciro_kode': 33,\n",
              " 'B-ikibuga_izina': 34,\n",
              " 'I-umujyi_izina': 35,\n",
              " 'B-kugenda_itariki.igihe_bijyanye': 36,\n",
              " 'I-kugenda_itariki.umwaka': 37,\n",
              " 'I-kugenda_itariki.umunsi_umubare': 38,\n",
              " 'B-kuva.leta_izina': 39,\n",
              " 'B-guhagarara.umujyi_izina': 40,\n",
              " 'B-kuguruka_number': 41,\n",
              " 'B-kode_indege': 42,\n",
              " 'I-kuhagera_itariki.umunsi_izina': 43,\n",
              " 'B-kuva.ikibuga_izina': 44,\n",
              " 'B-ubwoko_ubwikorezi': 45,\n",
              " 'B-kuhagera_itariki.umunsi_izina': 46,\n",
              " 'I-kuhagera_amasaha.igihe_umunsi': 47,\n",
              " 'B-kugenda_itariki.uyumunsi_bijyanye': 48,\n",
              " 'B-ifunguro_description': 49,\n",
              " 'B-leta_izina': 50,\n",
              " 'B-depart_time.period_mod': 51,\n",
              " 'B-kuguruka_days': 52,\n",
              " 'I-kuguruka_days': 53,\n",
              " 'B-kuhagera_itariki.umunsi_umubare': 54,\n",
              " 'B-kuhagera_itariki.ukwezi_izina': 55,\n",
              " 'B-kuhagera_amasaha.igihe_umunsi': 56,\n",
              " 'B-ubukungu': 57,\n",
              " 'I-ubukungu': 58,\n",
              " 'I-kuguruka_mod': 59,\n",
              " 'I-ifunguro_description': 60,\n",
              " 'B-kode_ikibuga_indege': 61,\n",
              " 'I-kuhagera_amasaha.gusoza_amasaha': 62,\n",
              " 'B-guhuza': 63,\n",
              " 'I-guhagarara.umujyi_izina': 64,\n",
              " 'B-kugera.ikibuga_indege_kode': 65,\n",
              " 'I-igihe_umunsi': 66,\n",
              " 'B-kubuzwa_kode': 67,\n",
              " 'B-cyagwa': 68,\n",
              " 'I-leta_izina': 69,\n",
              " 'I-kugaruka_itariki.umunsi_izina': 70,\n",
              " 'I-kugenda_itariki.uyumunsi_bijyanye': 71,\n",
              " 'I-kuguruka_guhagarara': 72,\n",
              " 'I-kugenda_amasaha.kurangira_amasaha': 73,\n",
              " 'I-igiciro_guhuza': 74,\n",
              " 'B-kuva.leta_kode': 75,\n",
              " 'B-kugaruka_itariki.umunsi_izina': 76,\n",
              " 'B-kugaruka_itariki.igihe': 77,\n",
              " 'I-kugenda_amasaha.gutagira_amasaha': 78,\n",
              " 'B-uburyo': 79,\n",
              " 'B-umunsi_izina': 80,\n",
              " 'I-umunsi_izina': 81,\n",
              " 'B-kugenda_itariki.umwaka': 82,\n",
              " 'B-igihe_umunsi': 83,\n",
              " 'I-kubuzwa_kode': 84,\n",
              " 'B-igiciro': 85,\n",
              " 'I-igiciro': 86,\n",
              " 'B-kuhagera_itariki.itariki_bijyanye': 87,\n",
              " 'B-kuhagera_amasaha.gutagira_amasaha': 88,\n",
              " 'I-kuhagera_amasaha.gutagira_amasaha': 89,\n",
              " 'B-kuhagera_amasaha.gusoza_amasaha': 90,\n",
              " 'I-kuguruka_number': 91,\n",
              " 'I-kugaruka_itariki.igihe': 92,\n",
              " 'B-kugenda_amasaha.gutagira_amasaha': 93,\n",
              " 'B-kugenda_amasaha.kurangira_amasaha': 94,\n",
              " 'B-kugera.ikibuga_indege_izina': 95,\n",
              " 'I-kugera.ikibuga_indege_izina': 96,\n",
              " 'B-kugera.igihugu_izina': 97,\n",
              " 'B-icyumba': 98,\n",
              " 'I-icyumba': 99,\n",
              " 'B-ifunguro_code': 100,\n",
              " 'B-kugera.leta_kode': 101,\n",
              " 'B-kuva._ikibuga_kode': 102,\n",
              " 'B-iminsi_kode': 103,\n",
              " 'B-guhagarara.ikibuga_indege_kode': 104,\n",
              " 'B-gufata_ikiciro': 105}"
            ]
          },
          "metadata": {},
          "execution_count": 43
        }
      ]
    },
    {
      "cell_type": "code",
      "metadata": {
        "id": "xqcSXpgOwcbX",
        "colab": {
          "base_uri": "https://localhost:8080/"
        },
        "outputId": "f796ffaa-2403-4857-add3-0bef17cac236"
      },
      "source": [
        "intent_names = set(df_train.intent_label)\n",
        "intent_map = dict((label, idx) for idx, label in enumerate(intent_names))\n",
        "intent_map"
      ],
      "execution_count": null,
      "outputs": [
        {
          "output_type": "execute_result",
          "data": {
            "text/plain": [
              "{'kubutaka': 0,\n",
              " 'indege_nta # atis_umurongo': 1,\n",
              " 'indege_no': 2,\n",
              " 'indege': 3,\n",
              " 'umunsi_izina': 4,\n",
              " 'ikibuga cyindege': 5,\n",
              " 'ingano': 6,\n",
              " 'kuguruka': 7,\n",
              " 'amagambo ahinnye': 8,\n",
              " 'intera': 9,\n",
              " 'indege # atis_urumuri': 10,\n",
              " 'indege # atis_airline': 11,\n",
              " 'indege # atis_airfare': 12,\n",
              " 'indege_igihe': 13,\n",
              " 'ubushobozi': 14,\n",
              " 'umujyi': 15,\n",
              " 'ifunguro': 16}"
            ]
          },
          "metadata": {},
          "execution_count": 44
        }
      ]
    },
    {
      "cell_type": "code",
      "metadata": {
        "id": "wFjLpaFxxQk6"
      },
      "source": [
        "intent_train = df_train[\"intent_label\"].map(intent_map).values\n",
        "intent_valid = df_valid[\"intent_label\"].map(intent_map).values"
      ],
      "execution_count": null,
      "outputs": []
    },
    {
      "cell_type": "markdown",
      "metadata": {
        "id": "b5TuDZR26jwq"
      },
      "source": [
        "### Loading and Feeding a Pretrained mBERT model\n",
        "\n",
        "Loading a pretrained mBERT base model using the [huggingface transformers](https://github.com/huggingface/transformers) package:"
      ]
    },
    {
      "cell_type": "code",
      "metadata": {
        "id": "73ZrDDm-0wYS",
        "colab": {
          "base_uri": "https://localhost:8080/",
          "height": 272,
          "referenced_widgets": [
            "59917a745c97464abfaca3bfe9138edf",
            "f97aa6a4441f4756b04dbc1bb8c841ce",
            "fb9e096729474a7897785a777c9917e9",
            "90b086570bd44e029c95bed6db7fdeb6",
            "b2ee2a5db9db41099ad30214a50227c2",
            "96cedbb1ee0f478cab9e4d916ee5b83e",
            "cc064ec58d294e36acbe2684f639c9e3",
            "ea113ec01ce94104a895ca93fef85351",
            "d83bc8550df041f49d0b7696b19491b4",
            "d27c7affbb4e48c8839ce7011ecffca3",
            "42477a04a3bb4303bb9561abd6732af4",
            "2c814398896b438686f1f810b14dcf31",
            "bee52cae2a3d446bab8dc0ee1d7f575e",
            "48aad62f81124878a756cb02375cd50f",
            "dca20f94085d4429a9f6ce8982ec34a7",
            "ff011b4ce3db404ea0af595feed7f83b",
            "94aec151f393468a9814623669218cf5",
            "bf7293f23eee40abaed0f35453750daf",
            "c3bd7ab0fcf34cca9bf8eb0303ca5408",
            "386d2797831746268fbf18d0afc74712",
            "1640fa809fae48bc8a48751de099e8d9",
            "efa9a44234a847b4bf5f7c9a26a4b56a"
          ]
        },
        "outputId": "d5271645-6fac-4e91-a531-491732c3d19a"
      },
      "source": [
        "from transformers import TFAutoModel\n",
        "\n",
        "base_bert_model = TFAutoModel.from_pretrained(\"bert-base-multilingual-cased\")\n",
        "base_bert_model.summary()"
      ],
      "execution_count": null,
      "outputs": [
        {
          "output_type": "display_data",
          "data": {
            "text/plain": [
              "Downloading:   0%|          | 0.00/433 [00:00<?, ?B/s]"
            ],
            "application/vnd.jupyter.widget-view+json": {
              "version_major": 2,
              "version_minor": 0,
              "model_id": "59917a745c97464abfaca3bfe9138edf"
            }
          },
          "metadata": {}
        },
        {
          "output_type": "display_data",
          "data": {
            "text/plain": [
              "Downloading:   0%|          | 0.00/536M [00:00<?, ?B/s]"
            ],
            "application/vnd.jupyter.widget-view+json": {
              "version_major": 2,
              "version_minor": 0,
              "model_id": "2c814398896b438686f1f810b14dcf31"
            }
          },
          "metadata": {}
        },
        {
          "output_type": "stream",
          "name": "stdout",
          "text": [
            "Model: \"tf_bert_model\"\n",
            "_________________________________________________________________\n",
            " Layer (type)                Output Shape              Param #   \n",
            "=================================================================\n",
            " bert (TFBertMainLayer)      multiple                  109482240 \n",
            "                                                                 \n",
            "=================================================================\n",
            "Total params: 109,482,240\n",
            "Trainable params: 109,482,240\n",
            "Non-trainable params: 0\n",
            "_________________________________________________________________\n"
          ]
        }
      ]
    },
    {
      "cell_type": "code",
      "metadata": {
        "id": "TwgRCE2h6QUT",
        "colab": {
          "base_uri": "https://localhost:8080/"
        },
        "outputId": "6e0c558d-78ba-46df-d62d-974e2cda376f"
      },
      "source": [
        "encoded_valid"
      ],
      "execution_count": null,
      "outputs": [
        {
          "output_type": "execute_result",
          "data": {
            "text/plain": [
              "{'input_ids': array([[  101, 12849,  2527, ...,     0,     0,     0],\n",
              "        [  101, 12849,  2527, ...,     0,     0,     0],\n",
              "        [  101, 12849,  2527, ...,     0,     0,     0],\n",
              "        ...,\n",
              "        [  101,  9925, 13970, ...,     0,     0,     0],\n",
              "        [  101,  5904, 13970, ...,     0,     0,     0],\n",
              "        [  101,  6222, 13970, ...,     0,     0,     0]], dtype=int32),\n",
              " 'attention_masks': array([[1, 1, 1, ..., 0, 0, 0],\n",
              "        [1, 1, 1, ..., 0, 0, 0],\n",
              "        [1, 1, 1, ..., 0, 0, 0],\n",
              "        ...,\n",
              "        [1, 1, 1, ..., 0, 0, 0],\n",
              "        [1, 1, 1, ..., 0, 0, 0],\n",
              "        [1, 1, 1, ..., 0, 0, 0]], dtype=int32)}"
            ]
          },
          "metadata": {},
          "execution_count": 48
        }
      ]
    },
    {
      "cell_type": "code",
      "metadata": {
        "id": "htMv_pQt5aYl",
        "colab": {
          "base_uri": "https://localhost:8080/"
        },
        "outputId": "8c824a6f-4d81-4cf3-ce2c-567300ffe5dc"
      },
      "source": [
        "outputs = base_bert_model(encoded_valid)\n",
        "len(outputs)"
      ],
      "execution_count": null,
      "outputs": [
        {
          "output_type": "execute_result",
          "data": {
            "text/plain": [
              "2"
            ]
          },
          "metadata": {},
          "execution_count": 49
        }
      ]
    },
    {
      "cell_type": "markdown",
      "metadata": {
        "id": "pkwN4INi8eSh"
      },
      "source": [
        "The **first ouput** of the mBERT model is a tensor with shape: `(batch_size, seq_len, output_dim)` which computes **features for each token in the input sequence**:"
      ]
    },
    {
      "cell_type": "code",
      "metadata": {
        "id": "0PoQyA_A7CS4",
        "colab": {
          "base_uri": "https://localhost:8080/"
        },
        "outputId": "b8856080-c16b-4f33-e204-5abc77429f9a"
      },
      "source": [
        "outputs[0].shape"
      ],
      "execution_count": null,
      "outputs": [
        {
          "output_type": "execute_result",
          "data": {
            "text/plain": [
              "TensorShape([50, 78, 768])"
            ]
          },
          "metadata": {},
          "execution_count": 50
        }
      ]
    },
    {
      "cell_type": "markdown",
      "metadata": {
        "id": "kxjU9Wpi8vyM"
      },
      "source": [
        "The **second output** of the mBERT model is a tensor with shape `(batch_size, output_dim)` which is the vector representation of the special token `[CLS]`. This vector is typically used as a **pooled representation for the sequence as a whole**."
      ]
    },
    {
      "cell_type": "code",
      "metadata": {
        "id": "gbg9Yd6MTlQQ",
        "colab": {
          "base_uri": "https://localhost:8080/"
        },
        "outputId": "b82ed193-c77d-4d39-9173-8e7604bee1b0"
      },
      "source": [
        "outputs[1].shape"
      ],
      "execution_count": null,
      "outputs": [
        {
          "output_type": "execute_result",
          "data": {
            "text/plain": [
              "TensorShape([50, 768])"
            ]
          },
          "metadata": {},
          "execution_count": 51
        }
      ]
    },
    {
      "cell_type": "markdown",
      "source": [
        "#Mapping slots to the corresponding indexes"
      ],
      "metadata": {
        "id": "PoTr6Et0hoKm"
      }
    },
    {
      "cell_type": "code",
      "metadata": {
        "id": "PgYp8XkWMkpx",
        "colab": {
          "base_uri": "https://localhost:8080/"
        },
        "outputId": "b63308c5-ef59-4d8c-b3fb-83c67b301098"
      },
      "source": [
        "slot_names = [\"[PAD]\"]\n",
        "slot_names += list(seq_out_word_to_index.keys())[1:]\n",
        "slot_names"
      ],
      "execution_count": null,
      "outputs": [
        {
          "output_type": "execute_result",
          "data": {
            "text/plain": [
              "['[PAD]',\n",
              " 'O',\n",
              " 'B-kuva.umujyi_izina',\n",
              " 'B-kugera.umujyi_izina',\n",
              " 'I-kugenda_itariki.umunsi_izina',\n",
              " 'I-kugera.umujyi_izina',\n",
              " 'B-kugenda_itariki.umunsi_izina',\n",
              " 'I-kugenda_amasaha.amasaha_bijyanye',\n",
              " 'I-kuva.umujyi_izina',\n",
              " 'B-kugenda_amasaha.igihe_umunsi',\n",
              " 'B-kugenda_amasaha.amasaha_bijyanye',\n",
              " 'I-kugenda_kugaruka',\n",
              " 'B-indege_izina',\n",
              " 'I-kuhagera_amasaha.amasaha',\n",
              " 'I-kugenda_amasaha.igihe_umunsi',\n",
              " 'B-kugenda_kugaruka',\n",
              " 'I-indege_izina',\n",
              " 'B-kugenda_itariki.ukwezi_izina',\n",
              " 'B-kugenda_itariki.umunsi_umubare',\n",
              " 'B-umujyi_izina',\n",
              " 'I-ikibuga_izina',\n",
              " 'B-igiciro_guhuza',\n",
              " 'B-kode_sosiyete_indege',\n",
              " 'B-kuhagera_amasaha.amasaha',\n",
              " 'B-ifunguro',\n",
              " 'I-kuva.ikibuga_izina',\n",
              " 'B-kuguruka_guhagarara',\n",
              " 'B-kugera.leta_izina',\n",
              " 'B-kuhagera_amasaha.amasaha_bijyanye',\n",
              " 'B-kuguruka_mod',\n",
              " 'B-ikiciro_ubwoko',\n",
              " 'I-ikiciro_ubwoko',\n",
              " 'B-igiciro_kode',\n",
              " 'B-ikibuga_izina',\n",
              " 'I-umujyi_izina',\n",
              " 'B-kugenda_itariki.igihe_bijyanye',\n",
              " 'I-kugenda_itariki.umwaka',\n",
              " 'I-kugenda_itariki.umunsi_umubare',\n",
              " 'B-kuva.leta_izina',\n",
              " 'B-guhagarara.umujyi_izina',\n",
              " 'B-kuguruka_number',\n",
              " 'B-kode_indege',\n",
              " 'I-kuhagera_itariki.umunsi_izina',\n",
              " 'B-kuva.ikibuga_izina',\n",
              " 'B-ubwoko_ubwikorezi',\n",
              " 'B-kuhagera_itariki.umunsi_izina',\n",
              " 'I-kuhagera_amasaha.igihe_umunsi',\n",
              " 'B-kugenda_itariki.uyumunsi_bijyanye',\n",
              " 'B-ifunguro_description',\n",
              " 'B-leta_izina',\n",
              " 'B-depart_time.period_mod',\n",
              " 'B-kuguruka_days',\n",
              " 'I-kuguruka_days',\n",
              " 'B-kuhagera_itariki.umunsi_umubare',\n",
              " 'B-kuhagera_itariki.ukwezi_izina',\n",
              " 'B-kuhagera_amasaha.igihe_umunsi',\n",
              " 'B-ubukungu',\n",
              " 'I-ubukungu',\n",
              " 'I-kuguruka_mod',\n",
              " 'I-ifunguro_description',\n",
              " 'B-kode_ikibuga_indege',\n",
              " 'I-kuhagera_amasaha.gusoza_amasaha',\n",
              " 'B-guhuza',\n",
              " 'I-guhagarara.umujyi_izina',\n",
              " 'B-kugera.ikibuga_indege_kode',\n",
              " 'I-igihe_umunsi',\n",
              " 'B-kubuzwa_kode',\n",
              " 'B-cyagwa',\n",
              " 'I-leta_izina',\n",
              " 'I-kugaruka_itariki.umunsi_izina',\n",
              " 'I-kugenda_itariki.uyumunsi_bijyanye',\n",
              " 'I-kuguruka_guhagarara',\n",
              " 'I-kugenda_amasaha.kurangira_amasaha',\n",
              " 'I-igiciro_guhuza',\n",
              " 'B-kuva.leta_kode',\n",
              " 'B-kugaruka_itariki.umunsi_izina',\n",
              " 'B-kugaruka_itariki.igihe',\n",
              " 'I-kugenda_amasaha.gutagira_amasaha',\n",
              " 'B-uburyo',\n",
              " 'B-umunsi_izina',\n",
              " 'I-umunsi_izina',\n",
              " 'B-kugenda_itariki.umwaka',\n",
              " 'B-igihe_umunsi',\n",
              " 'I-kubuzwa_kode',\n",
              " 'B-igiciro',\n",
              " 'I-igiciro',\n",
              " 'B-kuhagera_itariki.itariki_bijyanye',\n",
              " 'B-kuhagera_amasaha.gutagira_amasaha',\n",
              " 'I-kuhagera_amasaha.gutagira_amasaha',\n",
              " 'B-kuhagera_amasaha.gusoza_amasaha',\n",
              " 'I-kuguruka_number',\n",
              " 'I-kugaruka_itariki.igihe',\n",
              " 'B-kugenda_amasaha.gutagira_amasaha',\n",
              " 'B-kugenda_amasaha.kurangira_amasaha',\n",
              " 'B-kugera.ikibuga_indege_izina',\n",
              " 'I-kugera.ikibuga_indege_izina',\n",
              " 'B-kugera.igihugu_izina',\n",
              " 'B-icyumba',\n",
              " 'I-icyumba',\n",
              " 'B-ifunguro_code',\n",
              " 'B-kugera.leta_kode',\n",
              " 'B-kuva._ikibuga_kode',\n",
              " 'B-iminsi_kode',\n",
              " 'B-guhagarara.ikibuga_indege_kode',\n",
              " 'B-gufata_ikiciro']"
            ]
          },
          "metadata": {},
          "execution_count": 52
        }
      ]
    },
    {
      "cell_type": "code",
      "source": [
        "slot_map = {}\n",
        "for label in slot_names:\n",
        "    slot_map[label] = len(slot_map)\n",
        "slot_map"
      ],
      "metadata": {
        "id": "FngyzONckFR_",
        "colab": {
          "base_uri": "https://localhost:8080/"
        },
        "outputId": "c0dccdc4-0766-4719-8373-ec1315d745b3"
      },
      "execution_count": null,
      "outputs": [
        {
          "output_type": "execute_result",
          "data": {
            "text/plain": [
              "{'[PAD]': 0,\n",
              " 'O': 1,\n",
              " 'B-kuva.umujyi_izina': 2,\n",
              " 'B-kugera.umujyi_izina': 3,\n",
              " 'I-kugenda_itariki.umunsi_izina': 4,\n",
              " 'I-kugera.umujyi_izina': 5,\n",
              " 'B-kugenda_itariki.umunsi_izina': 6,\n",
              " 'I-kugenda_amasaha.amasaha_bijyanye': 7,\n",
              " 'I-kuva.umujyi_izina': 8,\n",
              " 'B-kugenda_amasaha.igihe_umunsi': 9,\n",
              " 'B-kugenda_amasaha.amasaha_bijyanye': 10,\n",
              " 'I-kugenda_kugaruka': 11,\n",
              " 'B-indege_izina': 12,\n",
              " 'I-kuhagera_amasaha.amasaha': 13,\n",
              " 'I-kugenda_amasaha.igihe_umunsi': 14,\n",
              " 'B-kugenda_kugaruka': 15,\n",
              " 'I-indege_izina': 16,\n",
              " 'B-kugenda_itariki.ukwezi_izina': 17,\n",
              " 'B-kugenda_itariki.umunsi_umubare': 18,\n",
              " 'B-umujyi_izina': 19,\n",
              " 'I-ikibuga_izina': 20,\n",
              " 'B-igiciro_guhuza': 21,\n",
              " 'B-kode_sosiyete_indege': 22,\n",
              " 'B-kuhagera_amasaha.amasaha': 23,\n",
              " 'B-ifunguro': 24,\n",
              " 'I-kuva.ikibuga_izina': 25,\n",
              " 'B-kuguruka_guhagarara': 26,\n",
              " 'B-kugera.leta_izina': 27,\n",
              " 'B-kuhagera_amasaha.amasaha_bijyanye': 28,\n",
              " 'B-kuguruka_mod': 29,\n",
              " 'B-ikiciro_ubwoko': 30,\n",
              " 'I-ikiciro_ubwoko': 31,\n",
              " 'B-igiciro_kode': 32,\n",
              " 'B-ikibuga_izina': 33,\n",
              " 'I-umujyi_izina': 34,\n",
              " 'B-kugenda_itariki.igihe_bijyanye': 35,\n",
              " 'I-kugenda_itariki.umwaka': 36,\n",
              " 'I-kugenda_itariki.umunsi_umubare': 37,\n",
              " 'B-kuva.leta_izina': 38,\n",
              " 'B-guhagarara.umujyi_izina': 39,\n",
              " 'B-kuguruka_number': 40,\n",
              " 'B-kode_indege': 41,\n",
              " 'I-kuhagera_itariki.umunsi_izina': 42,\n",
              " 'B-kuva.ikibuga_izina': 43,\n",
              " 'B-ubwoko_ubwikorezi': 44,\n",
              " 'B-kuhagera_itariki.umunsi_izina': 45,\n",
              " 'I-kuhagera_amasaha.igihe_umunsi': 46,\n",
              " 'B-kugenda_itariki.uyumunsi_bijyanye': 47,\n",
              " 'B-ifunguro_description': 48,\n",
              " 'B-leta_izina': 49,\n",
              " 'B-depart_time.period_mod': 50,\n",
              " 'B-kuguruka_days': 51,\n",
              " 'I-kuguruka_days': 52,\n",
              " 'B-kuhagera_itariki.umunsi_umubare': 53,\n",
              " 'B-kuhagera_itariki.ukwezi_izina': 54,\n",
              " 'B-kuhagera_amasaha.igihe_umunsi': 55,\n",
              " 'B-ubukungu': 56,\n",
              " 'I-ubukungu': 57,\n",
              " 'I-kuguruka_mod': 58,\n",
              " 'I-ifunguro_description': 59,\n",
              " 'B-kode_ikibuga_indege': 60,\n",
              " 'I-kuhagera_amasaha.gusoza_amasaha': 61,\n",
              " 'B-guhuza': 62,\n",
              " 'I-guhagarara.umujyi_izina': 63,\n",
              " 'B-kugera.ikibuga_indege_kode': 64,\n",
              " 'I-igihe_umunsi': 65,\n",
              " 'B-kubuzwa_kode': 66,\n",
              " 'B-cyagwa': 67,\n",
              " 'I-leta_izina': 68,\n",
              " 'I-kugaruka_itariki.umunsi_izina': 69,\n",
              " 'I-kugenda_itariki.uyumunsi_bijyanye': 70,\n",
              " 'I-kuguruka_guhagarara': 71,\n",
              " 'I-kugenda_amasaha.kurangira_amasaha': 72,\n",
              " 'I-igiciro_guhuza': 73,\n",
              " 'B-kuva.leta_kode': 74,\n",
              " 'B-kugaruka_itariki.umunsi_izina': 75,\n",
              " 'B-kugaruka_itariki.igihe': 76,\n",
              " 'I-kugenda_amasaha.gutagira_amasaha': 77,\n",
              " 'B-uburyo': 78,\n",
              " 'B-umunsi_izina': 79,\n",
              " 'I-umunsi_izina': 80,\n",
              " 'B-kugenda_itariki.umwaka': 81,\n",
              " 'B-igihe_umunsi': 82,\n",
              " 'I-kubuzwa_kode': 83,\n",
              " 'B-igiciro': 84,\n",
              " 'I-igiciro': 85,\n",
              " 'B-kuhagera_itariki.itariki_bijyanye': 86,\n",
              " 'B-kuhagera_amasaha.gutagira_amasaha': 87,\n",
              " 'I-kuhagera_amasaha.gutagira_amasaha': 88,\n",
              " 'B-kuhagera_amasaha.gusoza_amasaha': 89,\n",
              " 'I-kuguruka_number': 90,\n",
              " 'I-kugaruka_itariki.igihe': 91,\n",
              " 'B-kugenda_amasaha.gutagira_amasaha': 92,\n",
              " 'B-kugenda_amasaha.kurangira_amasaha': 93,\n",
              " 'B-kugera.ikibuga_indege_izina': 94,\n",
              " 'I-kugera.ikibuga_indege_izina': 95,\n",
              " 'B-kugera.igihugu_izina': 96,\n",
              " 'B-icyumba': 97,\n",
              " 'I-icyumba': 98,\n",
              " 'B-ifunguro_code': 99,\n",
              " 'B-kugera.leta_kode': 100,\n",
              " 'B-kuva._ikibuga_kode': 101,\n",
              " 'B-iminsi_kode': 102,\n",
              " 'B-guhagarara.ikibuga_indege_kode': 103,\n",
              " 'B-gufata_ikiciro': 104}"
            ]
          },
          "metadata": {},
          "execution_count": 53
        }
      ]
    },
    {
      "cell_type": "markdown",
      "metadata": {
        "id": "v8CX6LxYmhRh"
      },
      "source": [
        "The following function generates token-aligned integer labels from the BIO word-level annotations. In particular, if a specific word is too long to be represented as a single token, we expand its label for all the tokens of that word while taking care of using \"B-\" labels only for the first token and then use \"I-\" for the matching slot type for subsequent tokens of the same word:"
      ]
    },
    {
      "cell_type": "code",
      "metadata": {
        "id": "6LLkBWFJM6tr"
      },
      "source": [
        "def encode_token_labels(text_sequences, slot_names, tokenizer, slot_map,max_length):\n",
        "    encoded = np.zeros(shape=(len(text_sequences), max_length), dtype=np.int32)\n",
        "    for i, (text_sequence, word_labels) in enumerate(\n",
        "            zip(text_sequences, slot_names)):\n",
        "        encoded_labels = []\n",
        "        for word, word_label in zip(text_sequence.split(), word_labels.split()):\n",
        "            tokens = tokenizer.tokenize(word)\n",
        "            encoded_labels.append(slot_map[word_label])\n",
        "            expand_label = word_label.replace(\"B-\", \"I-\")\n",
        "            if not expand_label in slot_map:\n",
        "                expand_label = word_label\n",
        "            encoded_labels.extend([slot_map[expand_label]] * (len(tokens) - 1))\n",
        "        encoded[i, 1:len(encoded_labels) + 1] = encoded_labels\n",
        "    return encoded\n",
        "\n",
        "slot_train = encode_token_labels(\n",
        "    df_train[\"words\"], df_train[\"word_labels\"], tokenizer, slot_map, max_)\n",
        "slot_valid = encode_token_labels(\n",
        "    df_valid[\"words\"], df_valid[\"word_labels\"], tokenizer, slot_map, max_)"
      ],
      "execution_count": null,
      "outputs": []
    },
    {
      "cell_type": "markdown",
      "metadata": {
        "id": "n33S5n-TnVjd"
      },
      "source": [
        "Note that the special tokens such as \"[PAD]\" and \"[SEP]\" and all padded positions recieve a 0 label."
      ]
    },
    {
      "cell_type": "markdown",
      "source": [
        "#Joint Intent And Slot Filling Model"
      ],
      "metadata": {
        "id": "LATnIrGKiMzO"
      }
    },
    {
      "cell_type": "code",
      "metadata": {
        "id": "FwkvLq3KzU4G"
      },
      "source": [
        "class JointIntentAndSlotFillingModel(tf.keras.Model):\n",
        "\n",
        "    def __init__(self, intent_num_labels=None, slot_num_labels=None,\n",
        "                 model_name=\"bert-base-multilingual-cased\", dropout_prob=0.1):\n",
        "        super().__init__(name=\"joint_intent_slot\")\n",
        "        self.bert = TFAutoModel.from_pretrained(model_name)\n",
        "        self.dropout = Dropout(dropout_prob)\n",
        "        self.intent_classifier = Dense(intent_num_labels,\n",
        "                                       name=\"intent_classifier\")\n",
        "        self.slot_classifier = Dense(slot_num_labels,\n",
        "                                     name=\"slot_classifier\")\n",
        "\n",
        "    def call(self, inputs, training=False):\n",
        "        sequence_output, pooled_output = self.bert(inputs, training=training)\n",
        "\n",
        "        # The first output of the main mBERT layer has shape:\n",
        "        # (batch_size, max_length, output_dim)\n",
        "        sequence_output = self.dropout(sequence_output, training=training)\n",
        "        slot_logits = self.slot_classifier(sequence_output)\n",
        "\n",
        "        # The second output of the main mBERT layer has shape:\n",
        "        # (batch_size, output_dim)\n",
        "        # and gives a \"pooled\" representation for the full sequence from the\n",
        "        # hidden state that corresponds to the \"[CLS]\" token.\n",
        "        pooled_output = self.dropout(pooled_output, training=training)\n",
        "        intent_logits = self.intent_classifier(pooled_output)\n",
        "\n",
        "        return slot_logits, intent_logits\n",
        "\n",
        "joint_model = JointIntentAndSlotFillingModel(intent_num_labels=len(intent_map), slot_num_labels=len(slot_map))"
      ],
      "execution_count": null,
      "outputs": []
    },
    {
      "cell_type": "code",
      "metadata": {
        "id": "cCPRwf2Czf_d"
      },
      "source": [
        "opt = Adam(learning_rate=3e-5, epsilon=1e-08)\n",
        "losses = [SparseCategoricalCrossentropy(from_logits=True),\n",
        "          SparseCategoricalCrossentropy(from_logits=True)]\n",
        "metrics = [SparseCategoricalAccuracy('accuracy')]\n",
        "joint_model.compile(optimizer=opt, loss=losses, metrics=metrics)"
      ],
      "execution_count": null,
      "outputs": []
    },
    {
      "cell_type": "code",
      "source": [
        "#################   Saving Model Project  #########################\n",
        "joint_model"
      ],
      "metadata": {
        "id": "Ml_TCPmrRTZj",
        "colab": {
          "base_uri": "https://localhost:8080/"
        },
        "outputId": "b4522896-41b3-4949-cc9e-d35f1e447eb8"
      },
      "execution_count": null,
      "outputs": [
        {
          "output_type": "execute_result",
          "data": {
            "text/plain": [
              "<__main__.JointIntentAndSlotFillingModel at 0x7f18103b56a0>"
            ]
          },
          "metadata": {},
          "execution_count": 66
        }
      ]
    },
    {
      "cell_type": "code",
      "metadata": {
        "id": "Q8A0qr1K2Q-s",
        "colab": {
          "base_uri": "https://localhost:8080/"
        },
        "outputId": "742e3ec0-1dfc-469a-f05a-87ada335c165"
      },
      "source": [
        "history = joint_model.fit(encoded_train, (slot_train, intent_train),validation_data=(encoded_valid, (slot_valid, intent_valid)), epochs=50, batch_size=5)"
      ],
      "execution_count": null,
      "outputs": [
        {
          "output_type": "stream",
          "name": "stdout",
          "text": [
            "Epoch 1/50\n",
            "140/140 [==============================] - 27s 121ms/step - loss: 1.9813 - output_1_loss: 0.6207 - output_2_loss: 1.3606 - output_1_accuracy: 0.8867 - output_2_accuracy: 0.6957 - val_loss: 1.7120 - val_output_1_loss: 0.3601 - val_output_2_loss: 1.3519 - val_output_1_accuracy: 0.9321 - val_output_2_accuracy: 0.6800\n",
            "Epoch 2/50\n",
            "140/140 [==============================] - 15s 107ms/step - loss: 1.5584 - output_1_loss: 0.2946 - output_2_loss: 1.2638 - output_1_accuracy: 0.9384 - output_2_accuracy: 0.7029 - val_loss: 1.6168 - val_output_1_loss: 0.2124 - val_output_2_loss: 1.4044 - val_output_1_accuracy: 0.9549 - val_output_2_accuracy: 0.6800\n",
            "Epoch 3/50\n",
            "140/140 [==============================] - 15s 108ms/step - loss: 1.4382 - output_1_loss: 0.2061 - output_2_loss: 1.2321 - output_1_accuracy: 0.9553 - output_2_accuracy: 0.7043 - val_loss: 1.3565 - val_output_1_loss: 0.1371 - val_output_2_loss: 1.2194 - val_output_1_accuracy: 0.9721 - val_output_2_accuracy: 0.6800\n",
            "Epoch 4/50\n",
            "140/140 [==============================] - 15s 109ms/step - loss: 1.2876 - output_1_loss: 0.1580 - output_2_loss: 1.1296 - output_1_accuracy: 0.9653 - output_2_accuracy: 0.7014 - val_loss: 1.4526 - val_output_1_loss: 0.1087 - val_output_2_loss: 1.3438 - val_output_1_accuracy: 0.9762 - val_output_2_accuracy: 0.6800\n",
            "Epoch 5/50\n",
            "140/140 [==============================] - 15s 110ms/step - loss: 1.1964 - output_1_loss: 0.1339 - output_2_loss: 1.0625 - output_1_accuracy: 0.9699 - output_2_accuracy: 0.7043 - val_loss: 0.9949 - val_output_1_loss: 0.0999 - val_output_2_loss: 0.8950 - val_output_1_accuracy: 0.9790 - val_output_2_accuracy: 0.6800\n",
            "Epoch 6/50\n",
            "140/140 [==============================] - 16s 111ms/step - loss: 1.0708 - output_1_loss: 0.1185 - output_2_loss: 0.9524 - output_1_accuracy: 0.9730 - output_2_accuracy: 0.7400 - val_loss: 0.8024 - val_output_1_loss: 0.0786 - val_output_2_loss: 0.7238 - val_output_1_accuracy: 0.9818 - val_output_2_accuracy: 0.7000\n",
            "Epoch 7/50\n",
            "140/140 [==============================] - 15s 110ms/step - loss: 0.9617 - output_1_loss: 0.1122 - output_2_loss: 0.8495 - output_1_accuracy: 0.9751 - output_2_accuracy: 0.7657 - val_loss: 0.8803 - val_output_1_loss: 0.0807 - val_output_2_loss: 0.7997 - val_output_1_accuracy: 0.9800 - val_output_2_accuracy: 0.7200\n",
            "Epoch 8/50\n",
            "140/140 [==============================] - 15s 110ms/step - loss: 0.8759 - output_1_loss: 0.1016 - output_2_loss: 0.7743 - output_1_accuracy: 0.9772 - output_2_accuracy: 0.7686 - val_loss: 0.7775 - val_output_1_loss: 0.0711 - val_output_2_loss: 0.7065 - val_output_1_accuracy: 0.9831 - val_output_2_accuracy: 0.7400\n",
            "Epoch 9/50\n",
            "140/140 [==============================] - 15s 109ms/step - loss: 0.7055 - output_1_loss: 0.0920 - output_2_loss: 0.6136 - output_1_accuracy: 0.9783 - output_2_accuracy: 0.8157 - val_loss: 0.4607 - val_output_1_loss: 0.0652 - val_output_2_loss: 0.3955 - val_output_1_accuracy: 0.9815 - val_output_2_accuracy: 0.8800\n",
            "Epoch 10/50\n",
            "140/140 [==============================] - 15s 109ms/step - loss: 0.6073 - output_1_loss: 0.0909 - output_2_loss: 0.5164 - output_1_accuracy: 0.9793 - output_2_accuracy: 0.8271 - val_loss: 0.2679 - val_output_1_loss: 0.0644 - val_output_2_loss: 0.2035 - val_output_1_accuracy: 0.9844 - val_output_2_accuracy: 0.9600\n",
            "Epoch 11/50\n",
            "140/140 [==============================] - 15s 110ms/step - loss: 0.4884 - output_1_loss: 0.0813 - output_2_loss: 0.4071 - output_1_accuracy: 0.9816 - output_2_accuracy: 0.8757 - val_loss: 0.2091 - val_output_1_loss: 0.0501 - val_output_2_loss: 0.1591 - val_output_1_accuracy: 0.9877 - val_output_2_accuracy: 0.9600\n",
            "Epoch 12/50\n",
            "140/140 [==============================] - 15s 110ms/step - loss: 0.3844 - output_1_loss: 0.0712 - output_2_loss: 0.3131 - output_1_accuracy: 0.9834 - output_2_accuracy: 0.8943 - val_loss: 0.1138 - val_output_1_loss: 0.0398 - val_output_2_loss: 0.0739 - val_output_1_accuracy: 0.9918 - val_output_2_accuracy: 1.0000\n",
            "Epoch 13/50\n",
            "140/140 [==============================] - 15s 111ms/step - loss: 0.3714 - output_1_loss: 0.0679 - output_2_loss: 0.3035 - output_1_accuracy: 0.9840 - output_2_accuracy: 0.8971 - val_loss: 0.1297 - val_output_1_loss: 0.0389 - val_output_2_loss: 0.0907 - val_output_1_accuracy: 0.9910 - val_output_2_accuracy: 0.9800\n",
            "Epoch 14/50\n",
            "140/140 [==============================] - 15s 110ms/step - loss: 0.2643 - output_1_loss: 0.0612 - output_2_loss: 0.2031 - output_1_accuracy: 0.9853 - output_2_accuracy: 0.9371 - val_loss: 0.1486 - val_output_1_loss: 0.0354 - val_output_2_loss: 0.1131 - val_output_1_accuracy: 0.9923 - val_output_2_accuracy: 0.9800\n",
            "Epoch 15/50\n",
            "140/140 [==============================] - 15s 110ms/step - loss: 0.2617 - output_1_loss: 0.0571 - output_2_loss: 0.2046 - output_1_accuracy: 0.9865 - output_2_accuracy: 0.9300 - val_loss: 0.1225 - val_output_1_loss: 0.0373 - val_output_2_loss: 0.0852 - val_output_1_accuracy: 0.9918 - val_output_2_accuracy: 0.9600\n",
            "Epoch 16/50\n",
            "140/140 [==============================] - 15s 110ms/step - loss: 0.2245 - output_1_loss: 0.0543 - output_2_loss: 0.1702 - output_1_accuracy: 0.9874 - output_2_accuracy: 0.9443 - val_loss: 0.0404 - val_output_1_loss: 0.0284 - val_output_2_loss: 0.0120 - val_output_1_accuracy: 0.9926 - val_output_2_accuracy: 1.0000\n",
            "Epoch 17/50\n",
            "140/140 [==============================] - 15s 110ms/step - loss: 0.1673 - output_1_loss: 0.0454 - output_2_loss: 0.1219 - output_1_accuracy: 0.9890 - output_2_accuracy: 0.9543 - val_loss: 0.0342 - val_output_1_loss: 0.0247 - val_output_2_loss: 0.0095 - val_output_1_accuracy: 0.9946 - val_output_2_accuracy: 1.0000\n",
            "Epoch 18/50\n",
            "140/140 [==============================] - 15s 110ms/step - loss: 0.1555 - output_1_loss: 0.0399 - output_2_loss: 0.1155 - output_1_accuracy: 0.9902 - output_2_accuracy: 0.9571 - val_loss: 0.0242 - val_output_1_loss: 0.0191 - val_output_2_loss: 0.0051 - val_output_1_accuracy: 0.9954 - val_output_2_accuracy: 1.0000\n",
            "Epoch 19/50\n",
            "140/140 [==============================] - 15s 110ms/step - loss: 0.1360 - output_1_loss: 0.0323 - output_2_loss: 0.1036 - output_1_accuracy: 0.9925 - output_2_accuracy: 0.9700 - val_loss: 0.1430 - val_output_1_loss: 0.0213 - val_output_2_loss: 0.1217 - val_output_1_accuracy: 0.9951 - val_output_2_accuracy: 0.9800\n",
            "Epoch 20/50\n",
            "140/140 [==============================] - 15s 110ms/step - loss: 0.1564 - output_1_loss: 0.0319 - output_2_loss: 0.1245 - output_1_accuracy: 0.9926 - output_2_accuracy: 0.9600 - val_loss: 0.0226 - val_output_1_loss: 0.0186 - val_output_2_loss: 0.0040 - val_output_1_accuracy: 0.9956 - val_output_2_accuracy: 1.0000\n",
            "Epoch 21/50\n",
            "140/140 [==============================] - 15s 110ms/step - loss: 0.1431 - output_1_loss: 0.0313 - output_2_loss: 0.1119 - output_1_accuracy: 0.9925 - output_2_accuracy: 0.9586 - val_loss: 0.0194 - val_output_1_loss: 0.0140 - val_output_2_loss: 0.0053 - val_output_1_accuracy: 0.9969 - val_output_2_accuracy: 1.0000\n",
            "Epoch 22/50\n",
            "140/140 [==============================] - 15s 110ms/step - loss: 0.1126 - output_1_loss: 0.0260 - output_2_loss: 0.0866 - output_1_accuracy: 0.9939 - output_2_accuracy: 0.9629 - val_loss: 0.0255 - val_output_1_loss: 0.0135 - val_output_2_loss: 0.0120 - val_output_1_accuracy: 0.9974 - val_output_2_accuracy: 1.0000\n",
            "Epoch 23/50\n",
            "140/140 [==============================] - 15s 110ms/step - loss: 0.0950 - output_1_loss: 0.0231 - output_2_loss: 0.0720 - output_1_accuracy: 0.9946 - output_2_accuracy: 0.9700 - val_loss: 0.0133 - val_output_1_loss: 0.0108 - val_output_2_loss: 0.0025 - val_output_1_accuracy: 0.9972 - val_output_2_accuracy: 1.0000\n",
            "Epoch 24/50\n",
            "140/140 [==============================] - 15s 110ms/step - loss: 0.0860 - output_1_loss: 0.0188 - output_2_loss: 0.0672 - output_1_accuracy: 0.9959 - output_2_accuracy: 0.9686 - val_loss: 0.0105 - val_output_1_loss: 0.0082 - val_output_2_loss: 0.0023 - val_output_1_accuracy: 0.9987 - val_output_2_accuracy: 1.0000\n",
            "Epoch 25/50\n",
            "140/140 [==============================] - 15s 110ms/step - loss: 0.0879 - output_1_loss: 0.0176 - output_2_loss: 0.0703 - output_1_accuracy: 0.9962 - output_2_accuracy: 0.9629 - val_loss: 0.0092 - val_output_1_loss: 0.0072 - val_output_2_loss: 0.0020 - val_output_1_accuracy: 0.9987 - val_output_2_accuracy: 1.0000\n",
            "Epoch 26/50\n",
            "140/140 [==============================] - 15s 110ms/step - loss: 0.0785 - output_1_loss: 0.0153 - output_2_loss: 0.0632 - output_1_accuracy: 0.9968 - output_2_accuracy: 0.9686 - val_loss: 0.0074 - val_output_1_loss: 0.0057 - val_output_2_loss: 0.0017 - val_output_1_accuracy: 0.9987 - val_output_2_accuracy: 1.0000\n",
            "Epoch 27/50\n",
            "140/140 [==============================] - 15s 110ms/step - loss: 0.0756 - output_1_loss: 0.0146 - output_2_loss: 0.0610 - output_1_accuracy: 0.9970 - output_2_accuracy: 0.9729 - val_loss: 0.0063 - val_output_1_loss: 0.0049 - val_output_2_loss: 0.0014 - val_output_1_accuracy: 0.9987 - val_output_2_accuracy: 1.0000\n",
            "Epoch 28/50\n",
            "140/140 [==============================] - 15s 110ms/step - loss: 0.0691 - output_1_loss: 0.0122 - output_2_loss: 0.0569 - output_1_accuracy: 0.9975 - output_2_accuracy: 0.9757 - val_loss: 0.0052 - val_output_1_loss: 0.0041 - val_output_2_loss: 0.0011 - val_output_1_accuracy: 0.9987 - val_output_2_accuracy: 1.0000\n",
            "Epoch 29/50\n",
            "140/140 [==============================] - 15s 110ms/step - loss: 0.0783 - output_1_loss: 0.0118 - output_2_loss: 0.0664 - output_1_accuracy: 0.9977 - output_2_accuracy: 0.9714 - val_loss: 0.0056 - val_output_1_loss: 0.0041 - val_output_2_loss: 0.0015 - val_output_1_accuracy: 0.9990 - val_output_2_accuracy: 1.0000\n",
            "Epoch 30/50\n",
            "140/140 [==============================] - 15s 110ms/step - loss: 0.1476 - output_1_loss: 0.0289 - output_2_loss: 0.1186 - output_1_accuracy: 0.9927 - output_2_accuracy: 0.9543 - val_loss: 0.3164 - val_output_1_loss: 0.0166 - val_output_2_loss: 0.2998 - val_output_1_accuracy: 0.9959 - val_output_2_accuracy: 0.9200\n",
            "Epoch 31/50\n",
            "140/140 [==============================] - 15s 110ms/step - loss: 0.3725 - output_1_loss: 0.0506 - output_2_loss: 0.3219 - output_1_accuracy: 0.9865 - output_2_accuracy: 0.8957 - val_loss: 0.4172 - val_output_1_loss: 0.0255 - val_output_2_loss: 0.3918 - val_output_1_accuracy: 0.9941 - val_output_2_accuracy: 0.9000\n",
            "Epoch 32/50\n",
            "140/140 [==============================] - 15s 110ms/step - loss: 0.2881 - output_1_loss: 0.0391 - output_2_loss: 0.2490 - output_1_accuracy: 0.9897 - output_2_accuracy: 0.9229 - val_loss: 0.0735 - val_output_1_loss: 0.0186 - val_output_2_loss: 0.0549 - val_output_1_accuracy: 0.9959 - val_output_2_accuracy: 0.9800\n",
            "Epoch 33/50\n",
            "140/140 [==============================] - 15s 110ms/step - loss: 0.1188 - output_1_loss: 0.0264 - output_2_loss: 0.0925 - output_1_accuracy: 0.9935 - output_2_accuracy: 0.9657 - val_loss: 0.0143 - val_output_1_loss: 0.0097 - val_output_2_loss: 0.0046 - val_output_1_accuracy: 0.9974 - val_output_2_accuracy: 1.0000\n",
            "Epoch 34/50\n",
            "140/140 [==============================] - 15s 110ms/step - loss: 0.1046 - output_1_loss: 0.0206 - output_2_loss: 0.0840 - output_1_accuracy: 0.9952 - output_2_accuracy: 0.9686 - val_loss: 0.0169 - val_output_1_loss: 0.0104 - val_output_2_loss: 0.0064 - val_output_1_accuracy: 0.9967 - val_output_2_accuracy: 1.0000\n",
            "Epoch 35/50\n",
            "140/140 [==============================] - 15s 110ms/step - loss: 0.0855 - output_1_loss: 0.0176 - output_2_loss: 0.0679 - output_1_accuracy: 0.9958 - output_2_accuracy: 0.9729 - val_loss: 0.0093 - val_output_1_loss: 0.0073 - val_output_2_loss: 0.0019 - val_output_1_accuracy: 0.9982 - val_output_2_accuracy: 1.0000\n",
            "Epoch 36/50\n",
            "140/140 [==============================] - 15s 110ms/step - loss: 0.0927 - output_1_loss: 0.0147 - output_2_loss: 0.0780 - output_1_accuracy: 0.9964 - output_2_accuracy: 0.9643 - val_loss: 0.0102 - val_output_1_loss: 0.0063 - val_output_2_loss: 0.0040 - val_output_1_accuracy: 0.9985 - val_output_2_accuracy: 1.0000\n",
            "Epoch 37/50\n",
            "140/140 [==============================] - 15s 109ms/step - loss: 0.0662 - output_1_loss: 0.0129 - output_2_loss: 0.0533 - output_1_accuracy: 0.9970 - output_2_accuracy: 0.9700 - val_loss: 0.0063 - val_output_1_loss: 0.0051 - val_output_2_loss: 0.0011 - val_output_1_accuracy: 0.9985 - val_output_2_accuracy: 1.0000\n",
            "Epoch 38/50\n",
            "140/140 [==============================] - 15s 109ms/step - loss: 0.0702 - output_1_loss: 0.0114 - output_2_loss: 0.0588 - output_1_accuracy: 0.9974 - output_2_accuracy: 0.9686 - val_loss: 0.0094 - val_output_1_loss: 0.0065 - val_output_2_loss: 0.0029 - val_output_1_accuracy: 0.9982 - val_output_2_accuracy: 1.0000\n",
            "Epoch 39/50\n",
            "140/140 [==============================] - 15s 110ms/step - loss: 0.1873 - output_1_loss: 0.0238 - output_2_loss: 0.1636 - output_1_accuracy: 0.9940 - output_2_accuracy: 0.9429 - val_loss: 0.0365 - val_output_1_loss: 0.0075 - val_output_2_loss: 0.0289 - val_output_1_accuracy: 0.9977 - val_output_2_accuracy: 0.9800\n",
            "Epoch 40/50\n",
            "140/140 [==============================] - 15s 110ms/step - loss: 0.1409 - output_1_loss: 0.0225 - output_2_loss: 0.1184 - output_1_accuracy: 0.9939 - output_2_accuracy: 0.9500 - val_loss: 0.0966 - val_output_1_loss: 0.0121 - val_output_2_loss: 0.0845 - val_output_1_accuracy: 0.9969 - val_output_2_accuracy: 0.9800\n",
            "Epoch 41/50\n",
            "140/140 [==============================] - 15s 110ms/step - loss: 0.1306 - output_1_loss: 0.0210 - output_2_loss: 0.1096 - output_1_accuracy: 0.9947 - output_2_accuracy: 0.9500 - val_loss: 0.0145 - val_output_1_loss: 0.0101 - val_output_2_loss: 0.0044 - val_output_1_accuracy: 0.9979 - val_output_2_accuracy: 1.0000\n",
            "Epoch 42/50\n",
            "140/140 [==============================] - 15s 109ms/step - loss: 0.0887 - output_1_loss: 0.0153 - output_2_loss: 0.0734 - output_1_accuracy: 0.9963 - output_2_accuracy: 0.9571 - val_loss: 0.0090 - val_output_1_loss: 0.0079 - val_output_2_loss: 0.0011 - val_output_1_accuracy: 0.9979 - val_output_2_accuracy: 1.0000\n",
            "Epoch 43/50\n",
            "140/140 [==============================] - 15s 109ms/step - loss: 0.0788 - output_1_loss: 0.0112 - output_2_loss: 0.0676 - output_1_accuracy: 0.9975 - output_2_accuracy: 0.9657 - val_loss: 0.0051 - val_output_1_loss: 0.0043 - val_output_2_loss: 7.5380e-04 - val_output_1_accuracy: 0.9987 - val_output_2_accuracy: 1.0000\n",
            "Epoch 44/50\n",
            "140/140 [==============================] - 15s 109ms/step - loss: 0.0690 - output_1_loss: 0.0095 - output_2_loss: 0.0595 - output_1_accuracy: 0.9980 - output_2_accuracy: 0.9657 - val_loss: 0.0067 - val_output_1_loss: 0.0038 - val_output_2_loss: 0.0029 - val_output_1_accuracy: 0.9990 - val_output_2_accuracy: 1.0000\n",
            "Epoch 45/50\n",
            "140/140 [==============================] - 15s 109ms/step - loss: 0.0614 - output_1_loss: 0.0080 - output_2_loss: 0.0534 - output_1_accuracy: 0.9982 - output_2_accuracy: 0.9671 - val_loss: 0.0037 - val_output_1_loss: 0.0030 - val_output_2_loss: 6.3106e-04 - val_output_1_accuracy: 0.9987 - val_output_2_accuracy: 1.0000\n",
            "Epoch 46/50\n",
            "140/140 [==============================] - 15s 109ms/step - loss: 0.0555 - output_1_loss: 0.0070 - output_2_loss: 0.0485 - output_1_accuracy: 0.9986 - output_2_accuracy: 0.9714 - val_loss: 0.0033 - val_output_1_loss: 0.0028 - val_output_2_loss: 4.2326e-04 - val_output_1_accuracy: 0.9987 - val_output_2_accuracy: 1.0000\n",
            "Epoch 47/50\n",
            "140/140 [==============================] - 15s 109ms/step - loss: 0.0644 - output_1_loss: 0.0071 - output_2_loss: 0.0573 - output_1_accuracy: 0.9986 - output_2_accuracy: 0.9671 - val_loss: 0.0032 - val_output_1_loss: 0.0027 - val_output_2_loss: 4.3915e-04 - val_output_1_accuracy: 0.9987 - val_output_2_accuracy: 1.0000\n",
            "Epoch 48/50\n",
            "140/140 [==============================] - 15s 109ms/step - loss: 0.0560 - output_1_loss: 0.0054 - output_2_loss: 0.0506 - output_1_accuracy: 0.9990 - output_2_accuracy: 0.9729 - val_loss: 0.0028 - val_output_1_loss: 0.0024 - val_output_2_loss: 3.5008e-04 - val_output_1_accuracy: 0.9992 - val_output_2_accuracy: 1.0000\n",
            "Epoch 49/50\n",
            "140/140 [==============================] - 15s 110ms/step - loss: 0.0537 - output_1_loss: 0.0055 - output_2_loss: 0.0482 - output_1_accuracy: 0.9988 - output_2_accuracy: 0.9757 - val_loss: 0.0028 - val_output_1_loss: 0.0025 - val_output_2_loss: 3.6520e-04 - val_output_1_accuracy: 0.9990 - val_output_2_accuracy: 1.0000\n",
            "Epoch 50/50\n",
            "140/140 [==============================] - 15s 110ms/step - loss: 0.0555 - output_1_loss: 0.0051 - output_2_loss: 0.0504 - output_1_accuracy: 0.9990 - output_2_accuracy: 0.9729 - val_loss: 0.0025 - val_output_1_loss: 0.0022 - val_output_2_loss: 3.6271e-04 - val_output_1_accuracy: 0.9990 - val_output_2_accuracy: 1.0000\n"
          ]
        }
      ]
    },
    {
      "cell_type": "markdown",
      "metadata": {
        "id": "KISsxUXO6aA1"
      },
      "source": [
        "#Making prediction on a single text sequence and displaying both the sequence-wise and the token-wise class labels"
      ]
    },
    {
      "cell_type": "code",
      "metadata": {
        "id": "r0hZKphof3Im"
      },
      "source": [
        "\n",
        "def show_predictions(text, tokenizer, model, intent_names, slot_names):\n",
        "  \n",
        "    inputs = tf.constant(tokenizer.encode(text))[None, :]  # batch_size = 1\n",
        "    # print(inputs)\n",
        "    outputs = model(inputs)\n",
        "    slot_logits, intent_logits = outputs\n",
        "    # print(outputs)\n",
        "    slot_ids = slot_logits.numpy().argmax(axis=-1)[0, 1:-1]\n",
        "    # print(slot_ids)\n",
        "    intent_id = intent_logits.numpy().argmax(axis=-1)[0]\n",
        "    intent = [k for k, v in intent_names.items() if v == intent_id]\n",
        "\n",
        "    # print(slot_ids)\n",
        "\n",
        "    print(\"## Intent:\", intent)\n",
        "    print(\"## Slots:\")\n",
        "    slot_pred = []\n",
        "    \n",
        "    ####\n",
        "    text_split = text.split(' ')\n",
        "    tokens_ids = [(i,j) for i,j in zip(tokenizer.tokenize(text),slot_ids)]\n",
        "    #### Removing ## Tokens\n",
        "    tokens_ids_ = [x for x in tokens_ids if not '##' in x[0]]\n",
        "\n",
        "    for token, slot_id in zip(text_split, tokens_ids_):\n",
        "\n",
        "      print(f\"{token} : {slot_names[slot_id[1]]}\")\n",
        "\n",
        "      slot_pred.append(slot_names[slot_id[1]])\n",
        "\n",
        "    return intent, slot_pred"
      ],
      "execution_count": null,
      "outputs": []
    },
    {
      "cell_type": "code",
      "source": [
        "def diplay_prediction(data,index):\n",
        "  print('Actual sentence {sent}'.format(sent = data.iloc[index][\"words\"]))\n",
        "  print('Actual Labels {sent}'.format(sent = data.iloc[index][\"word_labels\"]))\n",
        "  print(\"_____________________________________________________________\")\n",
        "  print('predicted labels {labels}'.format(labels = show_predictions(data.iloc[index][\"words\"], tokenizer, joint_model, intent_map, slot_names)[1]))  \n"
      ],
      "metadata": {
        "id": "b6FTPYdFpQnx"
      },
      "execution_count": null,
      "outputs": []
    },
    {
      "cell_type": "code",
      "source": [
        "diplay_prediction(df_train,5)"
      ],
      "metadata": {
        "colab": {
          "base_uri": "https://localhost:8080/"
        },
        "id": "B2CnyoU2qcQS",
        "outputId": "e3c50821-40d7-4809-804f-cea140337794"
      },
      "execution_count": null,
      "outputs": [
        {
          "output_type": "stream",
          "name": "stdout",
          "text": [
            "Actual sentence kuwa mbere mu gitondo nkeneye indege imvana columbus ikanjyana indianapolis\n",
            "Actual Labels B-kugenda_itariki.umunsi_izina I-kugenda_itariki.umunsi_izina B-kugenda_amasaha.igihe_umunsi I-kugenda_amasaha.igihe_umunsi O O O B-kuva.umujyi_izina O B-kugera.umujyi_izina\n",
            "_____________________________________________________________\n",
            "## Intent: ['kuguruka']\n",
            "## Slots:\n",
            "kuwa : B-kugenda_itariki.umunsi_izina\n",
            "mbere : I-kugenda_itariki.umunsi_izina\n",
            "mu : B-kugenda_amasaha.igihe_umunsi\n",
            "gitondo : I-kugenda_amasaha.igihe_umunsi\n",
            "nkeneye : O\n",
            "indege : O\n",
            "imvana : O\n",
            "columbus : B-kuva.umujyi_izina\n",
            "ikanjyana : O\n",
            "indianapolis : B-kugera.umujyi_izina\n",
            "predicted labels ['B-kugenda_itariki.umunsi_izina', 'I-kugenda_itariki.umunsi_izina', 'B-kugenda_amasaha.igihe_umunsi', 'I-kugenda_amasaha.igihe_umunsi', 'O', 'O', 'O', 'B-kuva.umujyi_izina', 'O', 'B-kugera.umujyi_izina']\n"
          ]
        }
      ]
    },
    {
      "cell_type": "markdown",
      "source": [
        "The same process followed above can apply for other languages "
      ],
      "metadata": {
        "id": "HRw5vbYHH3m-"
      }
    },
    {
      "cell_type": "code",
      "source": [],
      "metadata": {
        "id": "iTMtLD-8ICSG"
      },
      "execution_count": null,
      "outputs": []
    }
  ]
}